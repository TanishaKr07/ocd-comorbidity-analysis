{
 "cells": [
  {
   "cell_type": "markdown",
   "id": "f036baf4",
   "metadata": {},
   "source": [
    "# Exploring Demographic Predictors of OCD Comorbidity with Synthetic Data"
   ]
  },
  {
   "cell_type": "markdown",
   "id": "b7da04f8",
   "metadata": {},
   "source": [
    "## Introduction"
   ]
  },
  {
   "cell_type": "markdown",
   "id": "0f2c568a",
   "metadata": {},
   "source": [
    "Obsessive-Compulsive Disorder (OCD) is a complex mental health condition characterized by irrational thoughts and fears (obsessions) that lead to repetitive behaviors (compulsions). It often co-occurs with other mental health conditions such as Anxiety, Depression, or even both. Uncovering and understanding any demographic patterns associated with these comorbidities may help shed light on patterns of vulnerability and treatment needs.\n",
    "\n",
    "In this project, I worked with a kaggle-sourced *synthetic dataset of 1500 simulated OCD patients*. The dataset includes demographic, clinical, and diagnostic factors of these synthetic patients. The goal of this project was to explore whether demographic factors (age, gender, education level, marital status, and ethnicity) could meaningfully predict OCD comorbidities (Anxiety, Depression, Both, or None)."
   ]
  },
  {
   "cell_type": "markdown",
   "id": "8d7da2ae",
   "metadata": {},
   "source": [
    "## Data Loading and Overview"
   ]
  },
  {
   "cell_type": "code",
   "execution_count": 1,
   "id": "d92bae73",
   "metadata": {},
   "outputs": [],
   "source": [
    "# importing the relevant libraries\n",
    "\n",
    "import pandas as pd\n",
    "import numpy as np\n",
    "import seaborn as sns\n",
    "import matplotlib.pyplot as plt\n",
    "import plotly.graph_objects as go\n",
    "from statsmodels.graphics.mosaicplot import mosaic\n",
    "from sklearn.model_selection import train_test_split\n",
    "from sklearn.linear_model import LogisticRegression\n",
    "from sklearn.metrics import classification_report, confusion_matrix\n",
    "from sklearn.preprocessing import StandardScaler\n",
    "from sklearn.ensemble import RandomForestClassifier\n",
    "from sklearn.cluster import KMeans"
   ]
  },
  {
   "cell_type": "code",
   "execution_count": 2,
   "id": "4c3c0762",
   "metadata": {},
   "outputs": [
    {
     "name": "stdout",
     "output_type": "stream",
     "text": [
      "(Rows, Columns) -  (1500, 17)\n"
     ]
    },
    {
     "data": {
      "text/html": [
       "<div>\n",
       "<style scoped>\n",
       "    .dataframe tbody tr th:only-of-type {\n",
       "        vertical-align: middle;\n",
       "    }\n",
       "\n",
       "    .dataframe tbody tr th {\n",
       "        vertical-align: top;\n",
       "    }\n",
       "\n",
       "    .dataframe thead th {\n",
       "        text-align: right;\n",
       "    }\n",
       "</style>\n",
       "<table border=\"1\" class=\"dataframe\">\n",
       "  <thead>\n",
       "    <tr style=\"text-align: right;\">\n",
       "      <th></th>\n",
       "      <th>Patient ID</th>\n",
       "      <th>Age</th>\n",
       "      <th>Sex</th>\n",
       "      <th>Ethnicity</th>\n",
       "      <th>Marital Status</th>\n",
       "      <th>Education Level</th>\n",
       "      <th>OCD Diagnosis Date</th>\n",
       "      <th>Duration of Symptoms (months)</th>\n",
       "      <th>Previous Diagnoses</th>\n",
       "      <th>Family History of OCD</th>\n",
       "      <th>Obsession Type</th>\n",
       "      <th>Compulsion Type</th>\n",
       "      <th>Y-BOCS Score (Obsessions)</th>\n",
       "      <th>Y-BOCS Score (Compulsions)</th>\n",
       "      <th>Depression Diagnosis</th>\n",
       "      <th>Anxiety Diagnosis</th>\n",
       "      <th>Medications</th>\n",
       "    </tr>\n",
       "  </thead>\n",
       "  <tbody>\n",
       "    <tr>\n",
       "      <th>0</th>\n",
       "      <td>1018</td>\n",
       "      <td>32</td>\n",
       "      <td>Female</td>\n",
       "      <td>African</td>\n",
       "      <td>Single</td>\n",
       "      <td>Some College</td>\n",
       "      <td>2016-07-15</td>\n",
       "      <td>203</td>\n",
       "      <td>MDD</td>\n",
       "      <td>No</td>\n",
       "      <td>Harm-related</td>\n",
       "      <td>Checking</td>\n",
       "      <td>17</td>\n",
       "      <td>10</td>\n",
       "      <td>Yes</td>\n",
       "      <td>Yes</td>\n",
       "      <td>SNRI</td>\n",
       "    </tr>\n",
       "    <tr>\n",
       "      <th>1</th>\n",
       "      <td>2406</td>\n",
       "      <td>69</td>\n",
       "      <td>Male</td>\n",
       "      <td>African</td>\n",
       "      <td>Divorced</td>\n",
       "      <td>Some College</td>\n",
       "      <td>2017-04-28</td>\n",
       "      <td>180</td>\n",
       "      <td>NaN</td>\n",
       "      <td>Yes</td>\n",
       "      <td>Harm-related</td>\n",
       "      <td>Washing</td>\n",
       "      <td>21</td>\n",
       "      <td>25</td>\n",
       "      <td>Yes</td>\n",
       "      <td>Yes</td>\n",
       "      <td>SSRI</td>\n",
       "    </tr>\n",
       "    <tr>\n",
       "      <th>2</th>\n",
       "      <td>1188</td>\n",
       "      <td>57</td>\n",
       "      <td>Male</td>\n",
       "      <td>Hispanic</td>\n",
       "      <td>Divorced</td>\n",
       "      <td>College Degree</td>\n",
       "      <td>2018-02-02</td>\n",
       "      <td>173</td>\n",
       "      <td>MDD</td>\n",
       "      <td>No</td>\n",
       "      <td>Contamination</td>\n",
       "      <td>Checking</td>\n",
       "      <td>3</td>\n",
       "      <td>4</td>\n",
       "      <td>No</td>\n",
       "      <td>No</td>\n",
       "      <td>Benzodiazepine</td>\n",
       "    </tr>\n",
       "    <tr>\n",
       "      <th>3</th>\n",
       "      <td>6200</td>\n",
       "      <td>27</td>\n",
       "      <td>Female</td>\n",
       "      <td>Hispanic</td>\n",
       "      <td>Married</td>\n",
       "      <td>College Degree</td>\n",
       "      <td>2014-08-25</td>\n",
       "      <td>126</td>\n",
       "      <td>PTSD</td>\n",
       "      <td>Yes</td>\n",
       "      <td>Symmetry</td>\n",
       "      <td>Washing</td>\n",
       "      <td>14</td>\n",
       "      <td>28</td>\n",
       "      <td>Yes</td>\n",
       "      <td>Yes</td>\n",
       "      <td>SSRI</td>\n",
       "    </tr>\n",
       "    <tr>\n",
       "      <th>4</th>\n",
       "      <td>5824</td>\n",
       "      <td>56</td>\n",
       "      <td>Female</td>\n",
       "      <td>Hispanic</td>\n",
       "      <td>Married</td>\n",
       "      <td>High School</td>\n",
       "      <td>2022-02-20</td>\n",
       "      <td>168</td>\n",
       "      <td>PTSD</td>\n",
       "      <td>Yes</td>\n",
       "      <td>Hoarding</td>\n",
       "      <td>Ordering</td>\n",
       "      <td>39</td>\n",
       "      <td>18</td>\n",
       "      <td>No</td>\n",
       "      <td>No</td>\n",
       "      <td>NaN</td>\n",
       "    </tr>\n",
       "  </tbody>\n",
       "</table>\n",
       "</div>"
      ],
      "text/plain": [
       "   Patient ID  Age     Sex Ethnicity Marital Status Education Level  \\\n",
       "0        1018   32  Female   African         Single    Some College   \n",
       "1        2406   69    Male   African       Divorced    Some College   \n",
       "2        1188   57    Male  Hispanic       Divorced  College Degree   \n",
       "3        6200   27  Female  Hispanic        Married  College Degree   \n",
       "4        5824   56  Female  Hispanic        Married     High School   \n",
       "\n",
       "  OCD Diagnosis Date  Duration of Symptoms (months) Previous Diagnoses  \\\n",
       "0         2016-07-15                            203                MDD   \n",
       "1         2017-04-28                            180                NaN   \n",
       "2         2018-02-02                            173                MDD   \n",
       "3         2014-08-25                            126               PTSD   \n",
       "4         2022-02-20                            168               PTSD   \n",
       "\n",
       "  Family History of OCD Obsession Type Compulsion Type  \\\n",
       "0                    No   Harm-related        Checking   \n",
       "1                   Yes   Harm-related         Washing   \n",
       "2                    No  Contamination        Checking   \n",
       "3                   Yes       Symmetry         Washing   \n",
       "4                   Yes       Hoarding        Ordering   \n",
       "\n",
       "   Y-BOCS Score (Obsessions)  Y-BOCS Score (Compulsions) Depression Diagnosis  \\\n",
       "0                         17                          10                  Yes   \n",
       "1                         21                          25                  Yes   \n",
       "2                          3                           4                   No   \n",
       "3                         14                          28                  Yes   \n",
       "4                         39                          18                   No   \n",
       "\n",
       "  Anxiety Diagnosis     Medications  \n",
       "0               Yes            SNRI  \n",
       "1               Yes            SSRI  \n",
       "2                No  Benzodiazepine  \n",
       "3               Yes            SSRI  \n",
       "4                No             NaN  "
      ]
     },
     "execution_count": 2,
     "metadata": {},
     "output_type": "execute_result"
    }
   ],
   "source": [
    "# Loading the dataset\n",
    "\n",
    "df = pd.DataFrame(pd.read_csv(\"ocd_patient_dataset.csv\"))\n",
    "df = df.rename(columns={\"Gender\": \"Sex\"})\n",
    "print(\"(Rows, Columns) - \",df.shape)\n",
    "df.head()"
   ]
  },
  {
   "cell_type": "markdown",
   "id": "ad197339",
   "metadata": {},
   "source": [
    "**Note: The original dataset column labeled `Gender` has been renamed to `Sex` to more accurately reflect that it represents biological sex assigned at birth (Male/Female) in this synthetic dataset. This distinction is important to clarify that the column does not capture gender identity,which can be much more diverse.**  \n"
   ]
  },
  {
   "cell_type": "markdown",
   "id": "c5be557c",
   "metadata": {},
   "source": [
    "The full dataset has 1500 rows and 17 columns. Each row represents the data of one synthetic patient, and each column represents a demographic, clinical, or medical variable recorded for all the patients. For this project, the following variables are of interest:\n",
    "\n",
    "1. Age (int) - Current age of the patient, ranging from 18 years (youngest) to 75 years (oldest)\n",
    "2. Sex (str) - Biological sex assigned at birth (Male or Female) \n",
    "3. Ethnicity (str) - Ethnic background of the patient (African, Asian, Caucasian, Hispanic)\n",
    "4. Marital Status (str) - Current marital status of the patient (Single, Divorced, Married)\n",
    "5. Education Level (str) - Highest level of education attained by the patient (High School, Some College, \n",
    "                            College Degree, Graduate Degree)\n",
    "6. Depression Diagnosis (str) - Whether or not the patient has been clinically diagnosed with Depression,\n",
    "                                *alongside* OCD\n",
    "7. Anxiety Diagnosis (str) - Whether or not the patient has been clinically diagnosed with Anxiety, \n",
    "                                *alongside* OCD"
   ]
  },
  {
   "cell_type": "markdown",
   "id": "e95b7569",
   "metadata": {},
   "source": [
    "## Data Cleaning and Preprocessing"
   ]
  },
  {
   "cell_type": "markdown",
   "id": "8731d5a1",
   "metadata": {},
   "source": [
    "**1. Feature Selection:**  \n",
    "\n",
    "The first step in preprocessing is selecting only the relevant columns for analysis. From the full dataset, we retain demographic features (`Age`, `Sex`, `Ethnicity`, `Marital Status`, `Education Level`) and clinical diagnosis labels (`Depression Diagnosis`, `Anxiety Diagnosis`) to create a working dataframe for subsequent modeling and analysis.\n"
   ]
  },
  {
   "cell_type": "code",
   "execution_count": 3,
   "id": "fff1d5a5",
   "metadata": {},
   "outputs": [
    {
     "data": {
      "text/html": [
       "<div>\n",
       "<style scoped>\n",
       "    .dataframe tbody tr th:only-of-type {\n",
       "        vertical-align: middle;\n",
       "    }\n",
       "\n",
       "    .dataframe tbody tr th {\n",
       "        vertical-align: top;\n",
       "    }\n",
       "\n",
       "    .dataframe thead th {\n",
       "        text-align: right;\n",
       "    }\n",
       "</style>\n",
       "<table border=\"1\" class=\"dataframe\">\n",
       "  <thead>\n",
       "    <tr style=\"text-align: right;\">\n",
       "      <th></th>\n",
       "      <th>Age</th>\n",
       "      <th>Sex</th>\n",
       "      <th>Ethnicity</th>\n",
       "      <th>Marital Status</th>\n",
       "      <th>Education Level</th>\n",
       "      <th>Depression Diagnosis</th>\n",
       "      <th>Anxiety Diagnosis</th>\n",
       "    </tr>\n",
       "  </thead>\n",
       "  <tbody>\n",
       "    <tr>\n",
       "      <th>0</th>\n",
       "      <td>32</td>\n",
       "      <td>Female</td>\n",
       "      <td>African</td>\n",
       "      <td>Single</td>\n",
       "      <td>Some College</td>\n",
       "      <td>Yes</td>\n",
       "      <td>Yes</td>\n",
       "    </tr>\n",
       "    <tr>\n",
       "      <th>1</th>\n",
       "      <td>69</td>\n",
       "      <td>Male</td>\n",
       "      <td>African</td>\n",
       "      <td>Divorced</td>\n",
       "      <td>Some College</td>\n",
       "      <td>Yes</td>\n",
       "      <td>Yes</td>\n",
       "    </tr>\n",
       "    <tr>\n",
       "      <th>2</th>\n",
       "      <td>57</td>\n",
       "      <td>Male</td>\n",
       "      <td>Hispanic</td>\n",
       "      <td>Divorced</td>\n",
       "      <td>College Degree</td>\n",
       "      <td>No</td>\n",
       "      <td>No</td>\n",
       "    </tr>\n",
       "    <tr>\n",
       "      <th>3</th>\n",
       "      <td>27</td>\n",
       "      <td>Female</td>\n",
       "      <td>Hispanic</td>\n",
       "      <td>Married</td>\n",
       "      <td>College Degree</td>\n",
       "      <td>Yes</td>\n",
       "      <td>Yes</td>\n",
       "    </tr>\n",
       "    <tr>\n",
       "      <th>4</th>\n",
       "      <td>56</td>\n",
       "      <td>Female</td>\n",
       "      <td>Hispanic</td>\n",
       "      <td>Married</td>\n",
       "      <td>High School</td>\n",
       "      <td>No</td>\n",
       "      <td>No</td>\n",
       "    </tr>\n",
       "  </tbody>\n",
       "</table>\n",
       "</div>"
      ],
      "text/plain": [
       "   Age     Sex Ethnicity Marital Status Education Level Depression Diagnosis  \\\n",
       "0   32  Female   African         Single    Some College                  Yes   \n",
       "1   69    Male   African       Divorced    Some College                  Yes   \n",
       "2   57    Male  Hispanic       Divorced  College Degree                   No   \n",
       "3   27  Female  Hispanic        Married  College Degree                  Yes   \n",
       "4   56  Female  Hispanic        Married     High School                   No   \n",
       "\n",
       "  Anxiety Diagnosis  \n",
       "0               Yes  \n",
       "1               Yes  \n",
       "2                No  \n",
       "3               Yes  \n",
       "4                No  "
      ]
     },
     "execution_count": 3,
     "metadata": {},
     "output_type": "execute_result"
    }
   ],
   "source": [
    "# Only extracting the columns that are relevant for this project\n",
    "\n",
    "dem_co_df = df.copy()[[\"Age\", \"Sex\", \"Ethnicity\", \"Marital Status\", \"Education Level\", \n",
    "                       \"Depression Diagnosis\", \"Anxiety Diagnosis\"]\n",
    "]\n",
    "dem_co_df.head()"
   ]
  },
  {
   "cell_type": "markdown",
   "id": "3ec29610",
   "metadata": {},
   "source": [
    "**2. Missing Values:**  \n",
    "\n",
    "Next step was to check the dataset for any missing values (`NaN`/`None`). Since there were **no missing values** in the selected features, no imputation was required.\n"
   ]
  },
  {
   "cell_type": "code",
   "execution_count": 4,
   "id": "8f03ead9",
   "metadata": {},
   "outputs": [
    {
     "data": {
      "text/plain": [
       "Age                     False\n",
       "Sex                     False\n",
       "Ethnicity               False\n",
       "Marital Status          False\n",
       "Education Level         False\n",
       "Depression Diagnosis    False\n",
       "Anxiety Diagnosis       False\n",
       "dtype: bool"
      ]
     },
     "execution_count": 4,
     "metadata": {},
     "output_type": "execute_result"
    }
   ],
   "source": [
    "#Checking for missing data\n",
    "\n",
    "dem_co_df.isna().any()"
   ]
  },
  {
   "cell_type": "markdown",
   "id": "7fea6e5c",
   "metadata": {},
   "source": [
    "**3. Binary Encoding:**  \n",
    "\n",
    "The `Depression Diagnosis` and `Anxiety Diagnosis` columns originally contain categorical values (`Yes`/`No`). These columns are converted to numeric binary values (`1` for Yes, `0` for No) to facilitate modeling and analysis."
   ]
  },
  {
   "cell_type": "code",
   "execution_count": 5,
   "id": "55459d0b",
   "metadata": {},
   "outputs": [],
   "source": [
    "dem_co_df[\"Depression Diagnosis\"] = dem_co_df[\"Depression Diagnosis\"].apply(\n",
    "    lambda x: 1 if x == \"Yes\" else 0\n",
    ")\n",
    "dem_co_df[\"Anxiety Diagnosis\"] = dem_co_df[\"Anxiety Diagnosis\"].apply(\n",
    "    lambda x: 1 if x == \"Yes\" else 0\n",
    ")"
   ]
  },
  {
   "cell_type": "markdown",
   "id": "c920c282",
   "metadata": {},
   "source": [
    "**4. Creating Co-Occurrence Labels:**  \n",
    "\n",
    "To facilitate multi-class analysis, two new binary columns are generated:  \n",
    "- `Both`: Indicates patients with **both depression and anxiety** (`1` if both present, `0` otherwise).  \n",
    "- `None`: Indicates patients with **neither depression nor anxiety** (`1` if neither present, `0` otherwise).  \n",
    "\n",
    "These derived columns help define the full set of OCD co-occurring condition categories: `Depression Only`, `Anxiety Only`, `Both`, and `None`."
   ]
  },
  {
   "cell_type": "code",
   "execution_count": 6,
   "id": "1ec4169d",
   "metadata": {},
   "outputs": [
    {
     "data": {
      "text/html": [
       "<div>\n",
       "<style scoped>\n",
       "    .dataframe tbody tr th:only-of-type {\n",
       "        vertical-align: middle;\n",
       "    }\n",
       "\n",
       "    .dataframe tbody tr th {\n",
       "        vertical-align: top;\n",
       "    }\n",
       "\n",
       "    .dataframe thead th {\n",
       "        text-align: right;\n",
       "    }\n",
       "</style>\n",
       "<table border=\"1\" class=\"dataframe\">\n",
       "  <thead>\n",
       "    <tr style=\"text-align: right;\">\n",
       "      <th></th>\n",
       "      <th>Age</th>\n",
       "      <th>Sex</th>\n",
       "      <th>Ethnicity</th>\n",
       "      <th>Marital Status</th>\n",
       "      <th>Education Level</th>\n",
       "      <th>Depression Diagnosis</th>\n",
       "      <th>Anxiety Diagnosis</th>\n",
       "      <th>Both</th>\n",
       "      <th>None</th>\n",
       "    </tr>\n",
       "  </thead>\n",
       "  <tbody>\n",
       "    <tr>\n",
       "      <th>0</th>\n",
       "      <td>32</td>\n",
       "      <td>Female</td>\n",
       "      <td>African</td>\n",
       "      <td>Single</td>\n",
       "      <td>Some College</td>\n",
       "      <td>0</td>\n",
       "      <td>0</td>\n",
       "      <td>1</td>\n",
       "      <td>0</td>\n",
       "    </tr>\n",
       "    <tr>\n",
       "      <th>1</th>\n",
       "      <td>69</td>\n",
       "      <td>Male</td>\n",
       "      <td>African</td>\n",
       "      <td>Divorced</td>\n",
       "      <td>Some College</td>\n",
       "      <td>0</td>\n",
       "      <td>0</td>\n",
       "      <td>1</td>\n",
       "      <td>0</td>\n",
       "    </tr>\n",
       "    <tr>\n",
       "      <th>3</th>\n",
       "      <td>27</td>\n",
       "      <td>Female</td>\n",
       "      <td>Hispanic</td>\n",
       "      <td>Married</td>\n",
       "      <td>College Degree</td>\n",
       "      <td>0</td>\n",
       "      <td>0</td>\n",
       "      <td>1</td>\n",
       "      <td>0</td>\n",
       "    </tr>\n",
       "    <tr>\n",
       "      <th>5</th>\n",
       "      <td>32</td>\n",
       "      <td>Female</td>\n",
       "      <td>Asian</td>\n",
       "      <td>Married</td>\n",
       "      <td>College Degree</td>\n",
       "      <td>0</td>\n",
       "      <td>0</td>\n",
       "      <td>1</td>\n",
       "      <td>0</td>\n",
       "    </tr>\n",
       "    <tr>\n",
       "      <th>9</th>\n",
       "      <td>72</td>\n",
       "      <td>Female</td>\n",
       "      <td>Hispanic</td>\n",
       "      <td>Divorced</td>\n",
       "      <td>Graduate Degree</td>\n",
       "      <td>0</td>\n",
       "      <td>0</td>\n",
       "      <td>1</td>\n",
       "      <td>0</td>\n",
       "    </tr>\n",
       "  </tbody>\n",
       "</table>\n",
       "</div>"
      ],
      "text/plain": [
       "   Age     Sex Ethnicity Marital Status  Education Level  \\\n",
       "0   32  Female   African         Single     Some College   \n",
       "1   69    Male   African       Divorced     Some College   \n",
       "3   27  Female  Hispanic        Married   College Degree   \n",
       "5   32  Female     Asian        Married   College Degree   \n",
       "9   72  Female  Hispanic       Divorced  Graduate Degree   \n",
       "\n",
       "   Depression Diagnosis  Anxiety Diagnosis  Both  None  \n",
       "0                     0                  0     1     0  \n",
       "1                     0                  0     1     0  \n",
       "3                     0                  0     1     0  \n",
       "5                     0                  0     1     0  \n",
       "9                     0                  0     1     0  "
      ]
     },
     "execution_count": 6,
     "metadata": {},
     "output_type": "execute_result"
    }
   ],
   "source": [
    "dem_co_df[\"Both\"] = (dem_co_df[\"Depression Diagnosis\"] + dem_co_df[\"Anxiety Diagnosis\"]).apply(\n",
    "    lambda x: 1 if x == 2 else 0\n",
    ")\n",
    "\n",
    "dem_co_df[\"None\"] = (dem_co_df[\"Depression Diagnosis\"] + dem_co_df[\"Anxiety Diagnosis\"]).apply(\n",
    "    lambda x: 1 if x == 0 else 0\n",
    ")\n",
    "\n",
    "#Making sure that if a patient gets marked into \"Both\", then they are removed from the \"Depression\n",
    "# Only\" and the \"Anxiety Only\" columns\n",
    "\n",
    "both_df = dem_co_df.copy()[dem_co_df[\"Both\"] == 1]\n",
    "both_df[\"Depression Diagnosis\"] = both_df[\"Depression Diagnosis\"].apply(lambda x: 0)\n",
    "both_df[\"Anxiety Diagnosis\"] = both_df[\"Anxiety Diagnosis\"].apply(lambda x: 0)\n",
    "single_none_df = dem_co_df[dem_co_df[\"Both\"] != 1]\n",
    "dem_co_df = pd.concat([both_df, single_none_df])\n",
    "dem_co_df.head()\n",
    "\n"
   ]
  },
  {
   "cell_type": "markdown",
   "id": "9eca854e",
   "metadata": {},
   "source": [
    "**5. Renaming Columns for Clarity:**  \n",
    "\n",
    "The original columns `Depression Diagnosis` and `Anxiety Diagnosis` are renamed to `Depression Only` and `Anxiety Only` to clearly indicate that these columns represent patients with **only depression** or **only anxiety**, excluding cases where these OCD comorbidities co-occur. This makes the dataset more interpretable for multi-class analysis."
   ]
  },
  {
   "cell_type": "code",
   "execution_count": 7,
   "id": "9714034c",
   "metadata": {},
   "outputs": [],
   "source": [
    "dem_co_df = dem_co_df.rename(columns={\n",
    "    \"Depression Diagnosis\":\"Depression Only\",\n",
    "    \"Anxiety Diagnosis\":\"Anxiety Only\"\n",
    "})"
   ]
  },
  {
   "cell_type": "markdown",
   "id": "7370eaf9",
   "metadata": {},
   "source": [
    "**6. Feature Encoding & Preparation:**  \n",
    "\n",
    "Finally, the categorical features (`Sex`, `Ethnicity`, `Marital Status`, `Education Level`) are one-hot encoded. We now have a fully numeric dataset ready for modeling and analysis."
   ]
  },
  {
   "cell_type": "code",
   "execution_count": 8,
   "id": "bd071ae8",
   "metadata": {},
   "outputs": [
    {
     "data": {
      "text/html": [
       "<div>\n",
       "<style scoped>\n",
       "    .dataframe tbody tr th:only-of-type {\n",
       "        vertical-align: middle;\n",
       "    }\n",
       "\n",
       "    .dataframe tbody tr th {\n",
       "        vertical-align: top;\n",
       "    }\n",
       "\n",
       "    .dataframe thead th {\n",
       "        text-align: right;\n",
       "    }\n",
       "</style>\n",
       "<table border=\"1\" class=\"dataframe\">\n",
       "  <thead>\n",
       "    <tr style=\"text-align: right;\">\n",
       "      <th></th>\n",
       "      <th>Age</th>\n",
       "      <th>Depression Only</th>\n",
       "      <th>Anxiety Only</th>\n",
       "      <th>Both</th>\n",
       "      <th>None</th>\n",
       "      <th>Sex_Female</th>\n",
       "      <th>Sex_Male</th>\n",
       "      <th>Ethnicity_African</th>\n",
       "      <th>Ethnicity_Asian</th>\n",
       "      <th>Ethnicity_Caucasian</th>\n",
       "      <th>Ethnicity_Hispanic</th>\n",
       "      <th>Marital Status_Divorced</th>\n",
       "      <th>Marital Status_Married</th>\n",
       "      <th>Marital Status_Single</th>\n",
       "      <th>Education Level_College Degree</th>\n",
       "      <th>Education Level_Graduate Degree</th>\n",
       "      <th>Education Level_High School</th>\n",
       "      <th>Education Level_Some College</th>\n",
       "    </tr>\n",
       "  </thead>\n",
       "  <tbody>\n",
       "    <tr>\n",
       "      <th>0</th>\n",
       "      <td>32</td>\n",
       "      <td>0</td>\n",
       "      <td>0</td>\n",
       "      <td>1</td>\n",
       "      <td>0</td>\n",
       "      <td>1</td>\n",
       "      <td>0</td>\n",
       "      <td>1</td>\n",
       "      <td>0</td>\n",
       "      <td>0</td>\n",
       "      <td>0</td>\n",
       "      <td>0</td>\n",
       "      <td>0</td>\n",
       "      <td>1</td>\n",
       "      <td>0</td>\n",
       "      <td>0</td>\n",
       "      <td>0</td>\n",
       "      <td>1</td>\n",
       "    </tr>\n",
       "    <tr>\n",
       "      <th>1</th>\n",
       "      <td>69</td>\n",
       "      <td>0</td>\n",
       "      <td>0</td>\n",
       "      <td>1</td>\n",
       "      <td>0</td>\n",
       "      <td>0</td>\n",
       "      <td>1</td>\n",
       "      <td>1</td>\n",
       "      <td>0</td>\n",
       "      <td>0</td>\n",
       "      <td>0</td>\n",
       "      <td>1</td>\n",
       "      <td>0</td>\n",
       "      <td>0</td>\n",
       "      <td>0</td>\n",
       "      <td>0</td>\n",
       "      <td>0</td>\n",
       "      <td>1</td>\n",
       "    </tr>\n",
       "    <tr>\n",
       "      <th>3</th>\n",
       "      <td>27</td>\n",
       "      <td>0</td>\n",
       "      <td>0</td>\n",
       "      <td>1</td>\n",
       "      <td>0</td>\n",
       "      <td>1</td>\n",
       "      <td>0</td>\n",
       "      <td>0</td>\n",
       "      <td>0</td>\n",
       "      <td>0</td>\n",
       "      <td>1</td>\n",
       "      <td>0</td>\n",
       "      <td>1</td>\n",
       "      <td>0</td>\n",
       "      <td>1</td>\n",
       "      <td>0</td>\n",
       "      <td>0</td>\n",
       "      <td>0</td>\n",
       "    </tr>\n",
       "    <tr>\n",
       "      <th>5</th>\n",
       "      <td>32</td>\n",
       "      <td>0</td>\n",
       "      <td>0</td>\n",
       "      <td>1</td>\n",
       "      <td>0</td>\n",
       "      <td>1</td>\n",
       "      <td>0</td>\n",
       "      <td>0</td>\n",
       "      <td>1</td>\n",
       "      <td>0</td>\n",
       "      <td>0</td>\n",
       "      <td>0</td>\n",
       "      <td>1</td>\n",
       "      <td>0</td>\n",
       "      <td>1</td>\n",
       "      <td>0</td>\n",
       "      <td>0</td>\n",
       "      <td>0</td>\n",
       "    </tr>\n",
       "    <tr>\n",
       "      <th>9</th>\n",
       "      <td>72</td>\n",
       "      <td>0</td>\n",
       "      <td>0</td>\n",
       "      <td>1</td>\n",
       "      <td>0</td>\n",
       "      <td>1</td>\n",
       "      <td>0</td>\n",
       "      <td>0</td>\n",
       "      <td>0</td>\n",
       "      <td>0</td>\n",
       "      <td>1</td>\n",
       "      <td>1</td>\n",
       "      <td>0</td>\n",
       "      <td>0</td>\n",
       "      <td>0</td>\n",
       "      <td>1</td>\n",
       "      <td>0</td>\n",
       "      <td>0</td>\n",
       "    </tr>\n",
       "  </tbody>\n",
       "</table>\n",
       "</div>"
      ],
      "text/plain": [
       "   Age  Depression Only  Anxiety Only  Both  None  Sex_Female  Sex_Male  \\\n",
       "0   32                0             0     1     0           1         0   \n",
       "1   69                0             0     1     0           0         1   \n",
       "3   27                0             0     1     0           1         0   \n",
       "5   32                0             0     1     0           1         0   \n",
       "9   72                0             0     1     0           1         0   \n",
       "\n",
       "   Ethnicity_African  Ethnicity_Asian  Ethnicity_Caucasian  \\\n",
       "0                  1                0                    0   \n",
       "1                  1                0                    0   \n",
       "3                  0                0                    0   \n",
       "5                  0                1                    0   \n",
       "9                  0                0                    0   \n",
       "\n",
       "   Ethnicity_Hispanic  Marital Status_Divorced  Marital Status_Married  \\\n",
       "0                   0                        0                       0   \n",
       "1                   0                        1                       0   \n",
       "3                   1                        0                       1   \n",
       "5                   0                        0                       1   \n",
       "9                   1                        1                       0   \n",
       "\n",
       "   Marital Status_Single  Education Level_College Degree  \\\n",
       "0                      1                               0   \n",
       "1                      0                               0   \n",
       "3                      0                               1   \n",
       "5                      0                               1   \n",
       "9                      0                               0   \n",
       "\n",
       "   Education Level_Graduate Degree  Education Level_High School  \\\n",
       "0                                0                            0   \n",
       "1                                0                            0   \n",
       "3                                0                            0   \n",
       "5                                0                            0   \n",
       "9                                1                            0   \n",
       "\n",
       "   Education Level_Some College  \n",
       "0                             1  \n",
       "1                             1  \n",
       "3                             0  \n",
       "5                             0  \n",
       "9                             0  "
      ]
     },
     "execution_count": 8,
     "metadata": {},
     "output_type": "execute_result"
    }
   ],
   "source": [
    "one_hot_vars = pd.get_dummies(dem_co_df[[\"Sex\", \"Ethnicity\", \n",
    "    \"Marital Status\", \"Education Level\"]])\n",
    "one_hot_vars = one_hot_vars.apply(lambda x: x + 0)\n",
    "preprocessed_df = pd.concat(\n",
    "    [dem_co_df[[\"Age\", \"Depression Only\", \"Anxiety Only\", \"Both\", \"None\"]],\n",
    "    one_hot_vars],\n",
    "    axis=1\n",
    ")\n",
    "preprocessed_df.head()"
   ]
  },
  {
   "cell_type": "markdown",
   "id": "5a96e398",
   "metadata": {},
   "source": [
    "## Exploratory Data Analysis (EDA)"
   ]
  },
  {
   "cell_type": "markdown",
   "id": "cfb7c5ab",
   "metadata": {},
   "source": [
    "To gain insights into the demographic and clinical patterns in our dataset, we perform an exploratory data analysis (EDA). The analysis is structured to move from broad descriptive summaries to more detailed interactions between variables.\n",
    "\n",
    "We begin by examining the overall distribution of OCD co-occurring conditions (Anxiety Only, Depression Only, Both, None). Next, we compare how these conditions are associated with demographic factors such as age, sex, ethnicity, education level, and marital status. Finally, we explore higher-order interactions between variables to uncover deeper structural patterns in the data.\n",
    "\n",
    "The steps of the EDA are as follows:\n",
    "\n",
    "1. <u>Overall Proportion of Comorbidities</u><br>Pie chart and summary table of Depression Only, Anxiety Only, Both, None.\n",
    "\n",
    "\n",
    "\n",
    "2. <u>Age-wise Distributions</u><br>a. Grouped boxplot of comorbidities across sex.<br>b. Grouped boxplot of comorbidities across ethnicity\n",
    "\n",
    "\n",
    "\n",
    "3. <u>Demographic Comparisons (Categorical)</u><br>a. Grouped bar chart of comorbidities by education level.<br>b. Grouped bar chart of comorbidities by marital status.\n",
    "\n",
    "\n",
    "\n",
    "4. <u>Interactions Between Demographics</u><br>a. Heatmap of comorbidities across combined sex and ethnicity.<br>b. Mosaic plot of education × marital status × comorbities.\n",
    "\n",
    "\n",
    "\n",
    "5. <u>Multi-level Flow Representation</u><br>a. Sankey diagram illustrating pathways from ethnicity → education level → marital status → comorbidities."
   ]
  },
  {
   "cell_type": "code",
   "execution_count": 9,
   "id": "82cd9077",
   "metadata": {},
   "outputs": [],
   "source": [
    "#assigning colors to maintain consistency across all graphs\n",
    "colors_comorbid = {\n",
    "    \"Depression Only\": \"#c51b8a\",\n",
    "    \"Anxiety Only\": \"#fbb2f8\",\n",
    "    \"Both\": \"#7a0177\",\n",
    "    \"None\": \"#fa9fb5\"\n",
    "}\n",
    "colors_sex = {\n",
    "    \"Female\": \"#ff7b98\",\n",
    "    \"Male\": \"#94f5eb\"\n",
    "}\n",
    "colors_ethn = {\n",
    "    \"African\": \"#dcfbae\", \n",
    "    \"Asian\": \"#3fd790\",         \n",
    "    \"Caucasian\": \"#3c975d\",     \n",
    "    \"Hispanic\": \"#95e4a3\"\n",
    "}\n",
    "colors_marital = {\n",
    "    \"Single\": \"#d6ade2\",        \n",
    "    \"Divorced\": \"#9354ed\",      \n",
    "    \"Married\": \"#a88ede\"\n",
    "}\n",
    "colors_edu = {\n",
    "    \"High School\": \"#336f64\",\n",
    "    \"Some College\": \"#59b6b3\", \n",
    "    \"College Degree\": \"#3f93b1\",\n",
    "    \"Graduate Degree\": \"#4383f0\"   \n",
    "}\n",
    "colors_hmap = [\n",
    "    [0.0,  \"#fff7f3\"],\n",
    "    [0.25, \"#fde0dd\"], \n",
    "    [0.5,  \"#fa9fb5\"],  \n",
    "    [0.75, \"#c51b8a\"],  \n",
    "    [1.0,  \"#7a0177\"]   \n",
    "]"
   ]
  },
  {
   "cell_type": "markdown",
   "id": "5854f591",
   "metadata": {},
   "source": [
    "### Distribution of OCD Comorbidities"
   ]
  },
  {
   "cell_type": "markdown",
   "id": "47032602",
   "metadata": {},
   "source": [
    "We first examine the overall distribution of OCD patients across the four comorbidity categories: `Depression Only`, `Anxiety Only`, `Both`, and `None`."
   ]
  },
  {
   "cell_type": "code",
   "execution_count": 10,
   "id": "c836e0c7",
   "metadata": {},
   "outputs": [
    {
     "data": {
      "image/png": "[encoded data removed]",
      "text/plain": [
       "<Figure size 640x480 with 1 Axes>"
      ]
     },
     "metadata": {},
     "output_type": "display_data"
    }
   ],
   "source": [
    "#pie chart\n",
    "labels = list(colors_comorbid.keys())\n",
    "pies = preprocessed_df[labels].sum()/preprocessed_df.shape[0]\n",
    "plt.pie(pies,labels=labels, autopct=lambda x: f\"{x: 0.1f}%\", colors=list(colors_comorbid.values()))\n",
    "plt.title(\"Proportion of Comorbidity in OCD Patients\")\n",
    "plt.show()"
   ]
  },
  {
   "cell_type": "code",
   "execution_count": 11,
   "id": "35a54a22",
   "metadata": {},
   "outputs": [
    {
     "data": {
      "text/html": [
       "<div>\n",
       "<style scoped>\n",
       "    .dataframe tbody tr th:only-of-type {\n",
       "        vertical-align: middle;\n",
       "    }\n",
       "\n",
       "    .dataframe tbody tr th {\n",
       "        vertical-align: top;\n",
       "    }\n",
       "\n",
       "    .dataframe thead th {\n",
       "        text-align: right;\n",
       "    }\n",
       "</style>\n",
       "<table border=\"1\" class=\"dataframe\">\n",
       "  <thead>\n",
       "    <tr style=\"text-align: right;\">\n",
       "      <th></th>\n",
       "      <th>Raw Count</th>\n",
       "    </tr>\n",
       "  </thead>\n",
       "  <tbody>\n",
       "    <tr>\n",
       "      <th>Depression Only</th>\n",
       "      <td>400</td>\n",
       "    </tr>\n",
       "    <tr>\n",
       "      <th>Anxiety Only</th>\n",
       "      <td>379</td>\n",
       "    </tr>\n",
       "    <tr>\n",
       "      <th>Both</th>\n",
       "      <td>372</td>\n",
       "    </tr>\n",
       "    <tr>\n",
       "      <th>None</th>\n",
       "      <td>349</td>\n",
       "    </tr>\n",
       "  </tbody>\n",
       "</table>\n",
       "</div>"
      ],
      "text/plain": [
       "                 Raw Count\n",
       "Depression Only        400\n",
       "Anxiety Only           379\n",
       "Both                   372\n",
       "None                   349"
      ]
     },
     "execution_count": 11,
     "metadata": {},
     "output_type": "execute_result"
    }
   ],
   "source": [
    "pd.DataFrame(preprocessed_df[labels].sum(), columns=[\"Raw Count\"])"
   ]
  },
  {
   "cell_type": "markdown",
   "id": "cd241256",
   "metadata": {},
   "source": [
    "The pie chart and the accompanying table illustrate the proportions and raw counts of OCD patients falling under each of out four comorbidity categories. This overview highlights that comorbidities are relatively evenly distributed with our dataset, with no single group overwhelmingly dominant."
   ]
  },
  {
   "cell_type": "markdown",
   "id": "671629de",
   "metadata": {},
   "source": [
    "### Age-Wise Prevalence of Comorbidities By Sex"
   ]
  },
  {
   "cell_type": "markdown",
   "id": "59cd5ec1",
   "metadata": {},
   "source": [
    "To explore whether age differs across comorbidities and between sexes, we plot a grouped boxplot of Age for each comorbidity category, split by Sex."
   ]
  },
  {
   "cell_type": "code",
   "execution_count": 12,
   "id": "fe40bc0d",
   "metadata": {},
   "outputs": [
    {
     "data": {
      "image/png": "[encoded data removed]",
      "text/plain": [
       "<Figure size 640x480 with 1 Axes>"
      ]
     },
     "metadata": {},
     "output_type": "display_data"
    }
   ],
   "source": [
    "comorbid_df = pd.DataFrame(pd.from_dummies(preprocessed_df[[\"Depression Only\", \"Anxiety Only\",\n",
    "                                 \"Both\", \"None\"]])).rename(columns={'': \"Comorbidity\"})\n",
    "comorbid_sex = pd.concat([pd.from_dummies(preprocessed_df[[\"Sex_Female\",\"Sex_Male\"]], sep=\"_\"), \n",
    "                          comorbid_df, preprocessed_df[[\"Age\"]]], axis=1)\n",
    "box_sex = sns.boxplot(data=comorbid_sex, x=\"Comorbidity\",y=\"Age\", hue=\"Sex\", palette=colors_sex)\n",
    "box_sex.set_title(\"Age Wise Prevalence of OCD Comorbidity by Sex\")\n",
    "plt.legend(title='Sex', bbox_to_anchor=(1.05, 1), loc='upper left')\n",
    "plt.show()\n"
   ]
  },
  {
   "cell_type": "markdown",
   "id": "4241cc53",
   "metadata": {},
   "source": [
    "The accompanying table shows the mean age for each combination of comorbidity and sex"
   ]
  },
  {
   "cell_type": "code",
   "execution_count": 13,
   "id": "19cab5d7",
   "metadata": {},
   "outputs": [
    {
     "data": {
      "text/html": [
       "<div>\n",
       "<style scoped>\n",
       "    .dataframe tbody tr th:only-of-type {\n",
       "        vertical-align: middle;\n",
       "    }\n",
       "\n",
       "    .dataframe tbody tr th {\n",
       "        vertical-align: top;\n",
       "    }\n",
       "\n",
       "    .dataframe thead th {\n",
       "        text-align: right;\n",
       "    }\n",
       "</style>\n",
       "<table border=\"1\" class=\"dataframe\">\n",
       "  <thead>\n",
       "    <tr style=\"text-align: right;\">\n",
       "      <th></th>\n",
       "      <th></th>\n",
       "      <th>Age</th>\n",
       "    </tr>\n",
       "    <tr>\n",
       "      <th>Comorbidity</th>\n",
       "      <th>Sex</th>\n",
       "      <th></th>\n",
       "    </tr>\n",
       "  </thead>\n",
       "  <tbody>\n",
       "    <tr>\n",
       "      <th rowspan=\"2\" valign=\"top\">Anxiety Only</th>\n",
       "      <th>Female</th>\n",
       "      <td>48.250000</td>\n",
       "    </tr>\n",
       "    <tr>\n",
       "      <th>Male</th>\n",
       "      <td>45.839572</td>\n",
       "    </tr>\n",
       "    <tr>\n",
       "      <th rowspan=\"2\" valign=\"top\">Both</th>\n",
       "      <th>Female</th>\n",
       "      <td>45.764045</td>\n",
       "    </tr>\n",
       "    <tr>\n",
       "      <th>Male</th>\n",
       "      <td>47.500000</td>\n",
       "    </tr>\n",
       "    <tr>\n",
       "      <th rowspan=\"2\" valign=\"top\">Depression Only</th>\n",
       "      <th>Female</th>\n",
       "      <td>46.801980</td>\n",
       "    </tr>\n",
       "    <tr>\n",
       "      <th>Male</th>\n",
       "      <td>46.449495</td>\n",
       "    </tr>\n",
       "    <tr>\n",
       "      <th rowspan=\"2\" valign=\"top\">None</th>\n",
       "      <th>Female</th>\n",
       "      <td>46.828571</td>\n",
       "    </tr>\n",
       "    <tr>\n",
       "      <th>Male</th>\n",
       "      <td>46.718391</td>\n",
       "    </tr>\n",
       "  </tbody>\n",
       "</table>\n",
       "</div>"
      ],
      "text/plain": [
       "                              Age\n",
       "Comorbidity     Sex              \n",
       "Anxiety Only    Female  48.250000\n",
       "                Male    45.839572\n",
       "Both            Female  45.764045\n",
       "                Male    47.500000\n",
       "Depression Only Female  46.801980\n",
       "                Male    46.449495\n",
       "None            Female  46.828571\n",
       "                Male    46.718391"
      ]
     },
     "execution_count": 13,
     "metadata": {},
     "output_type": "execute_result"
    }
   ],
   "source": [
    "comorbid_sex.groupby([\"Comorbidity\", \"Sex\"]).mean()\n"
   ]
  },
  {
   "cell_type": "markdown",
   "id": "6e7a49b4",
   "metadata": {},
   "source": [
    "This visualization and table reveal subtle differences in age distributions between sexes across comorbidity categories, though no large disparities are apparent."
   ]
  },
  {
   "cell_type": "markdown",
   "id": "63e5d057",
   "metadata": {},
   "source": [
    "### Age-Wise Prevalence of Comorbidities by Ethnicity"
   ]
  },
  {
   "cell_type": "markdown",
   "id": "4502961c",
   "metadata": {},
   "source": [
    "Similarly, to explore whether age differs across comorbity and between ethnicities, we plot a grouped boxplot of Age for each comorbidity category, split by Ethnicity."
   ]
  },
  {
   "cell_type": "code",
   "execution_count": 14,
   "id": "08e765dd",
   "metadata": {},
   "outputs": [
    {
     "data": {
      "image/png": "[encoded data removed]",
      "text/plain": [
       "<Figure size 640x480 with 1 Axes>"
      ]
     },
     "metadata": {},
     "output_type": "display_data"
    }
   ],
   "source": [
    "ethn_cols_ind = [i for i, x in enumerate(list(preprocessed_df.columns.str\n",
    "                        .startswith(\"Ethnicity_\"))) if x == True]\n",
    "ethn_cols = pd.from_dummies(preprocessed_df.iloc[:, ethn_cols_ind], sep=\"_\")\n",
    "comorbid_ethn = pd.concat([ethn_cols, comorbid_df, preprocessed_df[[\"Age\"]]], axis=1)\n",
    "box_ethn = sns.boxplot(data=comorbid_ethn, x=\"Comorbidity\",y=\"Age\", hue=\"Ethnicity\", palette=colors_ethn)\n",
    "box_ethn.set_title(\"Age Wise Prevalence of OCD Comorbidity by Ethnicity\")\n",
    "plt.legend(title='Ethnicity', bbox_to_anchor=(1.05, 1), loc='upper left')\n",
    "plt.show()\n"
   ]
  },
  {
   "cell_type": "markdown",
   "id": "9a1dd2e9",
   "metadata": {},
   "source": [
    "The accompanying table shows the mean age for each combination of comorbidity and ethnicity"
   ]
  },
  {
   "cell_type": "code",
   "execution_count": 15,
   "id": "9a9d4d5a",
   "metadata": {},
   "outputs": [
    {
     "data": {
      "text/html": [
       "<div>\n",
       "<style scoped>\n",
       "    .dataframe tbody tr th:only-of-type {\n",
       "        vertical-align: middle;\n",
       "    }\n",
       "\n",
       "    .dataframe tbody tr th {\n",
       "        vertical-align: top;\n",
       "    }\n",
       "\n",
       "    .dataframe thead th {\n",
       "        text-align: right;\n",
       "    }\n",
       "</style>\n",
       "<table border=\"1\" class=\"dataframe\">\n",
       "  <thead>\n",
       "    <tr style=\"text-align: right;\">\n",
       "      <th></th>\n",
       "      <th></th>\n",
       "      <th>Age</th>\n",
       "    </tr>\n",
       "    <tr>\n",
       "      <th>Comorbidity</th>\n",
       "      <th>Ethnicity</th>\n",
       "      <th></th>\n",
       "    </tr>\n",
       "  </thead>\n",
       "  <tbody>\n",
       "    <tr>\n",
       "      <th rowspan=\"4\" valign=\"top\">Anxiety Only</th>\n",
       "      <th>African</th>\n",
       "      <td>48.797753</td>\n",
       "    </tr>\n",
       "    <tr>\n",
       "      <th>Asian</th>\n",
       "      <td>46.969072</td>\n",
       "    </tr>\n",
       "    <tr>\n",
       "      <th>Caucasian</th>\n",
       "      <td>46.112245</td>\n",
       "    </tr>\n",
       "    <tr>\n",
       "      <th>Hispanic</th>\n",
       "      <td>46.505263</td>\n",
       "    </tr>\n",
       "    <tr>\n",
       "      <th rowspan=\"4\" valign=\"top\">Both</th>\n",
       "      <th>African</th>\n",
       "      <td>47.600000</td>\n",
       "    </tr>\n",
       "    <tr>\n",
       "      <th>Asian</th>\n",
       "      <td>47.035088</td>\n",
       "    </tr>\n",
       "    <tr>\n",
       "      <th>Caucasian</th>\n",
       "      <td>47.252632</td>\n",
       "    </tr>\n",
       "    <tr>\n",
       "      <th>Hispanic</th>\n",
       "      <td>44.772727</td>\n",
       "    </tr>\n",
       "    <tr>\n",
       "      <th rowspan=\"4\" valign=\"top\">Depression Only</th>\n",
       "      <th>African</th>\n",
       "      <td>45.543478</td>\n",
       "    </tr>\n",
       "    <tr>\n",
       "      <th>Asian</th>\n",
       "      <td>45.938776</td>\n",
       "    </tr>\n",
       "    <tr>\n",
       "      <th>Caucasian</th>\n",
       "      <td>46.841584</td>\n",
       "    </tr>\n",
       "    <tr>\n",
       "      <th>Hispanic</th>\n",
       "      <td>47.963303</td>\n",
       "    </tr>\n",
       "    <tr>\n",
       "      <th rowspan=\"4\" valign=\"top\">None</th>\n",
       "      <th>African</th>\n",
       "      <td>41.955882</td>\n",
       "    </tr>\n",
       "    <tr>\n",
       "      <th>Asian</th>\n",
       "      <td>46.519481</td>\n",
       "    </tr>\n",
       "    <tr>\n",
       "      <th>Caucasian</th>\n",
       "      <td>47.596154</td>\n",
       "    </tr>\n",
       "    <tr>\n",
       "      <th>Hispanic</th>\n",
       "      <td>49.390000</td>\n",
       "    </tr>\n",
       "  </tbody>\n",
       "</table>\n",
       "</div>"
      ],
      "text/plain": [
       "                                 Age\n",
       "Comorbidity     Ethnicity           \n",
       "Anxiety Only    African    48.797753\n",
       "                Asian      46.969072\n",
       "                Caucasian  46.112245\n",
       "                Hispanic   46.505263\n",
       "Both            African    47.600000\n",
       "                Asian      47.035088\n",
       "                Caucasian  47.252632\n",
       "                Hispanic   44.772727\n",
       "Depression Only African    45.543478\n",
       "                Asian      45.938776\n",
       "                Caucasian  46.841584\n",
       "                Hispanic   47.963303\n",
       "None            African    41.955882\n",
       "                Asian      46.519481\n",
       "                Caucasian  47.596154\n",
       "                Hispanic   49.390000"
      ]
     },
     "execution_count": 15,
     "metadata": {},
     "output_type": "execute_result"
    }
   ],
   "source": [
    "comorbid_ethn.groupby([\"Comorbidity\", \"Ethnicity\"]).mean()"
   ]
  },
  {
   "cell_type": "markdown",
   "id": "c5f63612",
   "metadata": {},
   "source": [
    "The illustrations highlight subtle differences in age distributions by ethnicity across comorbidity categories. While some trends are observable (e.g., the None category shows higher mean age among African patients compared to other ethnicities), no *extreme* disparities are apparent."
   ]
  },
  {
   "cell_type": "markdown",
   "id": "b363b254",
   "metadata": {},
   "source": [
    "### OCD Comorbidities by Education Level"
   ]
  },
  {
   "cell_type": "markdown",
   "id": "f0830cf4",
   "metadata": {},
   "source": [
    "To explore how OCD comorbidity categories are distributed across educational levels, we calculate the proportion of each comorbidity within each education group. Using proportions instead of raw counts allows us to account for differences in group sizes and compare patterns more clearly.\n",
    "\n",
    "The grouped bar chart below shows the relative distribution of the four comorbidity categories within each education level, and the corresponding table summarizes these proportions."
   ]
  },
  {
   "cell_type": "code",
   "execution_count": 16,
   "id": "71639ffb",
   "metadata": {},
   "outputs": [
    {
     "data": {
      "image/png": "[encoded data removed]",
      "text/plain": [
       "<Figure size 640x480 with 1 Axes>"
      ]
     },
     "metadata": {},
     "output_type": "display_data"
    }
   ],
   "source": [
    "edu_cols_ind = [i for i, x in enumerate(list(preprocessed_df.columns.str\n",
    "                        .startswith(\"Education Level_\"))) if x == True]\n",
    "edu_cols = pd.from_dummies(preprocessed_df.iloc[:, edu_cols_ind], sep=\"_\")\n",
    "comorbid_edu = pd.concat([edu_cols, comorbid_df], axis=1)\n",
    "\n",
    "comorbid_edu = pd.DataFrame(comorbid_edu.groupby([\"Education Level\", \n",
    "                                    \"Comorbidity\"]).value_counts())\n",
    "edu_counts = dict(comorbid_edu.reset_index().groupby(\"Education Level\")[\"count\"].sum())\n",
    "comorbid_edu = comorbid_edu.reset_index()\n",
    "props = []\n",
    "for i in range(comorbid_edu.shape[0]):\n",
    "    props.append(comorbid_edu[\"count\"][i]/edu_counts[comorbid_edu[\"Education Level\"][i]])\n",
    "comorbid_edu[\"Proportion\"] = props\n",
    "comorbid_edu = comorbid_edu.drop(columns=[\"count\"])\n",
    "sns.barplot(data=comorbid_edu, x=\"Education Level\", hue=\"Comorbidity\", \n",
    "            y=\"Proportion\", palette=colors_comorbid)\n",
    "plt.legend(title='Comorbidity', bbox_to_anchor=(1.05, 1), loc='upper left',)\n",
    "plt.xticks(rotation=45)\n",
    "plt.show()"
   ]
  },
  {
   "cell_type": "code",
   "execution_count": 17,
   "id": "26cadb93",
   "metadata": {},
   "outputs": [
    {
     "data": {
      "text/html": [
       "<div>\n",
       "<style scoped>\n",
       "    .dataframe tbody tr th:only-of-type {\n",
       "        vertical-align: middle;\n",
       "    }\n",
       "\n",
       "    .dataframe tbody tr th {\n",
       "        vertical-align: top;\n",
       "    }\n",
       "\n",
       "    .dataframe thead th {\n",
       "        text-align: right;\n",
       "    }\n",
       "</style>\n",
       "<table border=\"1\" class=\"dataframe\">\n",
       "  <thead>\n",
       "    <tr style=\"text-align: right;\">\n",
       "      <th></th>\n",
       "      <th></th>\n",
       "      <th>Proportion</th>\n",
       "    </tr>\n",
       "    <tr>\n",
       "      <th>Education Level</th>\n",
       "      <th>Comorbidity</th>\n",
       "      <th></th>\n",
       "    </tr>\n",
       "  </thead>\n",
       "  <tbody>\n",
       "    <tr>\n",
       "      <th rowspan=\"4\" valign=\"top\">College Degree</th>\n",
       "      <th>Anxiety Only</th>\n",
       "      <td>0.229508</td>\n",
       "    </tr>\n",
       "    <tr>\n",
       "      <th>Both</th>\n",
       "      <td>0.240437</td>\n",
       "    </tr>\n",
       "    <tr>\n",
       "      <th>Depression Only</th>\n",
       "      <td>0.284153</td>\n",
       "    </tr>\n",
       "    <tr>\n",
       "      <th>None</th>\n",
       "      <td>0.245902</td>\n",
       "    </tr>\n",
       "    <tr>\n",
       "      <th rowspan=\"4\" valign=\"top\">Graduate Degree</th>\n",
       "      <th>Anxiety Only</th>\n",
       "      <td>0.284574</td>\n",
       "    </tr>\n",
       "    <tr>\n",
       "      <th>Both</th>\n",
       "      <td>0.271277</td>\n",
       "    </tr>\n",
       "    <tr>\n",
       "      <th>Depression Only</th>\n",
       "      <td>0.218085</td>\n",
       "    </tr>\n",
       "    <tr>\n",
       "      <th>None</th>\n",
       "      <td>0.226064</td>\n",
       "    </tr>\n",
       "    <tr>\n",
       "      <th rowspan=\"4\" valign=\"top\">High School</th>\n",
       "      <th>Anxiety Only</th>\n",
       "      <td>0.247253</td>\n",
       "    </tr>\n",
       "    <tr>\n",
       "      <th>Both</th>\n",
       "      <td>0.230769</td>\n",
       "    </tr>\n",
       "    <tr>\n",
       "      <th>Depression Only</th>\n",
       "      <td>0.291209</td>\n",
       "    </tr>\n",
       "    <tr>\n",
       "      <th>None</th>\n",
       "      <td>0.230769</td>\n",
       "    </tr>\n",
       "    <tr>\n",
       "      <th rowspan=\"4\" valign=\"top\">Some College</th>\n",
       "      <th>Anxiety Only</th>\n",
       "      <td>0.248731</td>\n",
       "    </tr>\n",
       "    <tr>\n",
       "      <th>Both</th>\n",
       "      <td>0.248731</td>\n",
       "    </tr>\n",
       "    <tr>\n",
       "      <th>Depression Only</th>\n",
       "      <td>0.274112</td>\n",
       "    </tr>\n",
       "    <tr>\n",
       "      <th>None</th>\n",
       "      <td>0.228426</td>\n",
       "    </tr>\n",
       "  </tbody>\n",
       "</table>\n",
       "</div>"
      ],
      "text/plain": [
       "                                 Proportion\n",
       "Education Level Comorbidity                \n",
       "College Degree  Anxiety Only       0.229508\n",
       "                Both               0.240437\n",
       "                Depression Only    0.284153\n",
       "                None               0.245902\n",
       "Graduate Degree Anxiety Only       0.284574\n",
       "                Both               0.271277\n",
       "                Depression Only    0.218085\n",
       "                None               0.226064\n",
       "High School     Anxiety Only       0.247253\n",
       "                Both               0.230769\n",
       "                Depression Only    0.291209\n",
       "                None               0.230769\n",
       "Some College    Anxiety Only       0.248731\n",
       "                Both               0.248731\n",
       "                Depression Only    0.274112\n",
       "                None               0.228426"
      ]
     },
     "execution_count": 17,
     "metadata": {},
     "output_type": "execute_result"
    }
   ],
   "source": [
    "comorbid_edu.groupby([\"Education Level\", \"Comorbidity\"]).mean()"
   ]
  },
  {
   "cell_type": "markdown",
   "id": "71b79664",
   "metadata": {},
   "source": [
    "We observe that the proportions of comorbidities are fairly balanced across educational levels, with slight observable differences (e.g., except the `Graduate Degree` level, all other education levels have a slightly higher proportion of `Depression Only` patients). However, these differences are not extreme, suggesting that education alone may not strongly differentiate OCD comorbidity categories."
   ]
  },
  {
   "cell_type": "markdown",
   "id": "5908a52d",
   "metadata": {},
   "source": [
    "### OCD Comorbidity by Marital Status"
   ]
  },
  {
   "cell_type": "markdown",
   "id": "20bf61ca",
   "metadata": {},
   "source": [
    "We also examine how OCD comorbidity categories distribute across different marital status groups. Again, proportions are calculated within each marital status to account for differences in group sizes, allowing for a clear comparison of comorbidity patterns.\n",
    "\n",
    "The grouped bar chart below shows the relative distribution of the four comorbidity categories for each marital status, and the corresponding table summarizes these proportions:"
   ]
  },
  {
   "cell_type": "code",
   "execution_count": 18,
   "id": "90717e4f",
   "metadata": {},
   "outputs": [
    {
     "data": {
      "image/png": "[encoded data removed]",
      "text/plain": [
       "<Figure size 640x480 with 1 Axes>"
      ]
     },
     "metadata": {},
     "output_type": "display_data"
    }
   ],
   "source": [
    "marital_cols_ind = [i for i, x in enumerate(list(preprocessed_df.columns.str\n",
    "                        .startswith(\"Marital Status_\"))) if x == True]\n",
    "marital_cols = pd.from_dummies(preprocessed_df.iloc[:, marital_cols_ind], sep=\"_\")\n",
    "comorbid_marital = pd.concat([marital_cols, comorbid_df], axis=1)\n",
    "comorbid_marital = pd.DataFrame(comorbid_marital.groupby([\"Marital Status\", \n",
    "                                    \"Comorbidity\"]).value_counts())\n",
    "marital_counts = dict(comorbid_marital.reset_index().groupby(\"Marital Status\")[\"count\"].sum())\n",
    "comorbid_marital = comorbid_marital.reset_index()\n",
    "props = []\n",
    "for i in range(comorbid_marital.shape[0]):\n",
    "    props.append(comorbid_marital[\"count\"][i]/marital_counts[comorbid_marital[\"Marital Status\"][i]])\n",
    "comorbid_marital[\"Proportion\"] = props\n",
    "comorbid_marital = comorbid_marital.drop(columns=[\"count\"])\n",
    "sns.barplot(data=comorbid_marital, x=\"Marital Status\", hue=\"Comorbidity\", \n",
    "            y=\"Proportion\", palette=colors_comorbid)\n",
    "plt.legend(title='Comorbidity', bbox_to_anchor=(1.05, 1), loc='upper left',)\n",
    "plt.xticks(rotation=45)\n",
    "plt.show()"
   ]
  },
  {
   "cell_type": "code",
   "execution_count": 19,
   "id": "801f3a8a",
   "metadata": {},
   "outputs": [
    {
     "data": {
      "text/html": [
       "<div>\n",
       "<style scoped>\n",
       "    .dataframe tbody tr th:only-of-type {\n",
       "        vertical-align: middle;\n",
       "    }\n",
       "\n",
       "    .dataframe tbody tr th {\n",
       "        vertical-align: top;\n",
       "    }\n",
       "\n",
       "    .dataframe thead th {\n",
       "        text-align: right;\n",
       "    }\n",
       "</style>\n",
       "<table border=\"1\" class=\"dataframe\">\n",
       "  <thead>\n",
       "    <tr style=\"text-align: right;\">\n",
       "      <th></th>\n",
       "      <th></th>\n",
       "      <th>Proportion</th>\n",
       "    </tr>\n",
       "    <tr>\n",
       "      <th>Marital Status</th>\n",
       "      <th>Comorbidity</th>\n",
       "      <th></th>\n",
       "    </tr>\n",
       "  </thead>\n",
       "  <tbody>\n",
       "    <tr>\n",
       "      <th rowspan=\"4\" valign=\"top\">Divorced</th>\n",
       "      <th>Anxiety Only</th>\n",
       "      <td>0.257261</td>\n",
       "    </tr>\n",
       "    <tr>\n",
       "      <th>Both</th>\n",
       "      <td>0.257261</td>\n",
       "    </tr>\n",
       "    <tr>\n",
       "      <th>Depression Only</th>\n",
       "      <td>0.267635</td>\n",
       "    </tr>\n",
       "    <tr>\n",
       "      <th>None</th>\n",
       "      <td>0.217842</td>\n",
       "    </tr>\n",
       "    <tr>\n",
       "      <th rowspan=\"4\" valign=\"top\">Married</th>\n",
       "      <th>Anxiety Only</th>\n",
       "      <td>0.228797</td>\n",
       "    </tr>\n",
       "    <tr>\n",
       "      <th>Both</th>\n",
       "      <td>0.276134</td>\n",
       "    </tr>\n",
       "    <tr>\n",
       "      <th>Depression Only</th>\n",
       "      <td>0.240631</td>\n",
       "    </tr>\n",
       "    <tr>\n",
       "      <th>None</th>\n",
       "      <td>0.254438</td>\n",
       "    </tr>\n",
       "    <tr>\n",
       "      <th rowspan=\"4\" valign=\"top\">Single</th>\n",
       "      <th>Anxiety Only</th>\n",
       "      <td>0.272016</td>\n",
       "    </tr>\n",
       "    <tr>\n",
       "      <th>Both</th>\n",
       "      <td>0.211350</td>\n",
       "    </tr>\n",
       "    <tr>\n",
       "      <th>Depression Only</th>\n",
       "      <td>0.291585</td>\n",
       "    </tr>\n",
       "    <tr>\n",
       "      <th>None</th>\n",
       "      <td>0.225049</td>\n",
       "    </tr>\n",
       "  </tbody>\n",
       "</table>\n",
       "</div>"
      ],
      "text/plain": [
       "                                Proportion\n",
       "Marital Status Comorbidity                \n",
       "Divorced       Anxiety Only       0.257261\n",
       "               Both               0.257261\n",
       "               Depression Only    0.267635\n",
       "               None               0.217842\n",
       "Married        Anxiety Only       0.228797\n",
       "               Both               0.276134\n",
       "               Depression Only    0.240631\n",
       "               None               0.254438\n",
       "Single         Anxiety Only       0.272016\n",
       "               Both               0.211350\n",
       "               Depression Only    0.291585\n",
       "               None               0.225049"
      ]
     },
     "execution_count": 19,
     "metadata": {},
     "output_type": "execute_result"
    }
   ],
   "source": [
    "comorbid_marital.groupby([\"Marital Status\", \"Comorbidity\"]).mean()"
   ]
  },
  {
   "cell_type": "markdown",
   "id": "8fc23200",
   "metadata": {},
   "source": [
    "It becomes clear that comorbidity distributions are fairly similar across marital statuses, though `Depression Only` appears slightly higher among `Single` patients, while `Both` is higher among `Married` patients. Overall, again, no dramatic differences are observed."
   ]
  },
  {
   "cell_type": "markdown",
   "id": "02eea6a4",
   "metadata": {},
   "source": [
    "### OCD Comorbidities by Gender x Ethnicity"
   ]
  },
  {
   "cell_type": "markdown",
   "id": "8f45d0f6",
   "metadata": {},
   "source": [
    "To explore potential interactions between gender and ethnicity in OCD comorbidity patterns, we create a heatmap showing the proportion of each comorbidity category within every Gender × Ethnicity combination. Proportions are calculated within each subgroup to account for differences in sample size.\n",
    "\n",
    "The heatmap uses color intensity to represent the relative prevalence of the four comorbidity categories (`Depression Only`, `Anxiety Only`, `Both`, `None`) for each combination of Gender (`Female`, `Male`) and Ethnicity (`African`, `Asian`, `Caucasian`, `Hispanic`)."
   ]
  },
  {
   "cell_type": "code",
   "execution_count": 20,
   "id": "2ca9b774",
   "metadata": {},
   "outputs": [
    {
     "name": "stderr",
     "output_type": "stream",
     "text": [
      "C:\\Users\\tanis\\AppData\\Local\\Temp\\ipykernel_16752\\213564493.py:8: FutureWarning: Setting an item of incompatible dtype is deprecated and will raise an error in a future version of pandas. Value '0.31724137931034485' has dtype incompatible with int64, please explicitly cast to a compatible dtype first.\n",
      "  ctab_ethn_sex.loc[row] = ctab_ethn_sex.loc[row].apply(lambda x: x/ row_total)\n",
      "C:\\Users\\tanis\\AppData\\Local\\Temp\\ipykernel_16752\\213564493.py:8: FutureWarning: Setting an item of incompatible dtype is deprecated and will raise an error in a future version of pandas. Value '0.2206896551724138' has dtype incompatible with int64, please explicitly cast to a compatible dtype first.\n",
      "  ctab_ethn_sex.loc[row] = ctab_ethn_sex.loc[row].apply(lambda x: x/ row_total)\n",
      "C:\\Users\\tanis\\AppData\\Local\\Temp\\ipykernel_16752\\213564493.py:8: FutureWarning: Setting an item of incompatible dtype is deprecated and will raise an error in a future version of pandas. Value '0.25517241379310346' has dtype incompatible with int64, please explicitly cast to a compatible dtype first.\n",
      "  ctab_ethn_sex.loc[row] = ctab_ethn_sex.loc[row].apply(lambda x: x/ row_total)\n",
      "C:\\Users\\tanis\\AppData\\Local\\Temp\\ipykernel_16752\\213564493.py:8: FutureWarning: Setting an item of incompatible dtype is deprecated and will raise an error in a future version of pandas. Value '0.20689655172413793' has dtype incompatible with int64, please explicitly cast to a compatible dtype first.\n",
      "  ctab_ethn_sex.loc[row] = ctab_ethn_sex.loc[row].apply(lambda x: x/ row_total)\n"
     ]
    },
    {
     "data": {
      "text/html": [
       "<div>\n",
       "<style scoped>\n",
       "    .dataframe tbody tr th:only-of-type {\n",
       "        vertical-align: middle;\n",
       "    }\n",
       "\n",
       "    .dataframe tbody tr th {\n",
       "        vertical-align: top;\n",
       "    }\n",
       "\n",
       "    .dataframe thead tr th {\n",
       "        text-align: left;\n",
       "    }\n",
       "\n",
       "    .dataframe thead tr:last-of-type th {\n",
       "        text-align: right;\n",
       "    }\n",
       "</style>\n",
       "<table border=\"1\" class=\"dataframe\">\n",
       "  <thead>\n",
       "    <tr>\n",
       "      <th>Ethnicity</th>\n",
       "      <th colspan=\"2\" halign=\"left\">African</th>\n",
       "      <th colspan=\"2\" halign=\"left\">Asian</th>\n",
       "      <th colspan=\"2\" halign=\"left\">Caucasian</th>\n",
       "      <th colspan=\"2\" halign=\"left\">Hispanic</th>\n",
       "    </tr>\n",
       "    <tr>\n",
       "      <th>Sex</th>\n",
       "      <th>Female</th>\n",
       "      <th>Male</th>\n",
       "      <th>Female</th>\n",
       "      <th>Male</th>\n",
       "      <th>Female</th>\n",
       "      <th>Male</th>\n",
       "      <th>Female</th>\n",
       "      <th>Male</th>\n",
       "    </tr>\n",
       "    <tr>\n",
       "      <th>Comorbidity</th>\n",
       "      <th></th>\n",
       "      <th></th>\n",
       "      <th></th>\n",
       "      <th></th>\n",
       "      <th></th>\n",
       "      <th></th>\n",
       "      <th></th>\n",
       "      <th></th>\n",
       "    </tr>\n",
       "  </thead>\n",
       "  <tbody>\n",
       "    <tr>\n",
       "      <th>Anxiety Only</th>\n",
       "      <td>0.317241</td>\n",
       "      <td>0.240223</td>\n",
       "      <td>0.220096</td>\n",
       "      <td>0.288136</td>\n",
       "      <td>0.266010</td>\n",
       "      <td>0.225641</td>\n",
       "      <td>0.242105</td>\n",
       "      <td>0.242574</td>\n",
       "    </tr>\n",
       "    <tr>\n",
       "      <th>Both</th>\n",
       "      <td>0.220690</td>\n",
       "      <td>0.240223</td>\n",
       "      <td>0.291866</td>\n",
       "      <td>0.299435</td>\n",
       "      <td>0.221675</td>\n",
       "      <td>0.256410</td>\n",
       "      <td>0.210526</td>\n",
       "      <td>0.237624</td>\n",
       "    </tr>\n",
       "    <tr>\n",
       "      <th>Depression Only</th>\n",
       "      <td>0.255172</td>\n",
       "      <td>0.307263</td>\n",
       "      <td>0.263158</td>\n",
       "      <td>0.242938</td>\n",
       "      <td>0.256158</td>\n",
       "      <td>0.251282</td>\n",
       "      <td>0.305263</td>\n",
       "      <td>0.252475</td>\n",
       "    </tr>\n",
       "    <tr>\n",
       "      <th>None</th>\n",
       "      <td>0.206897</td>\n",
       "      <td>0.212291</td>\n",
       "      <td>0.224880</td>\n",
       "      <td>0.169492</td>\n",
       "      <td>0.256158</td>\n",
       "      <td>0.266667</td>\n",
       "      <td>0.242105</td>\n",
       "      <td>0.267327</td>\n",
       "    </tr>\n",
       "  </tbody>\n",
       "</table>\n",
       "</div>"
      ],
      "text/plain": [
       "Ethnicity         African               Asian           Caucasian            \\\n",
       "Sex                Female      Male    Female      Male    Female      Male   \n",
       "Comorbidity                                                                   \n",
       "Anxiety Only     0.317241  0.240223  0.220096  0.288136  0.266010  0.225641   \n",
       "Both             0.220690  0.240223  0.291866  0.299435  0.221675  0.256410   \n",
       "Depression Only  0.255172  0.307263  0.263158  0.242938  0.256158  0.251282   \n",
       "None             0.206897  0.212291  0.224880  0.169492  0.256158  0.266667   \n",
       "\n",
       "Ethnicity        Hispanic            \n",
       "Sex                Female      Male  \n",
       "Comorbidity                          \n",
       "Anxiety Only     0.242105  0.242574  \n",
       "Both             0.210526  0.237624  \n",
       "Depression Only  0.305263  0.252475  \n",
       "None             0.242105  0.267327  "
      ]
     },
     "execution_count": 20,
     "metadata": {},
     "output_type": "execute_result"
    }
   ],
   "source": [
    "ctab_ethn_sex = pd.concat([comorbid_df, comorbid_sex[[\"Sex\"]], \n",
    "          comorbid_ethn[[\"Ethnicity\"]]], axis=1)\n",
    "\n",
    "ctab_ethn_sex = pd.crosstab([ctab_ethn_sex[\"Ethnicity\"], ctab_ethn_sex[\"Sex\"]],\n",
    "                            ctab_ethn_sex[\"Comorbidity\"])\n",
    "for row in ctab_ethn_sex.index:\n",
    "    row_total = ctab_ethn_sex.loc[row].sum()\n",
    "    ctab_ethn_sex.loc[row] = ctab_ethn_sex.loc[row].apply(lambda x: x/ row_total)\n",
    "ctab_ethn_sex.T"
   ]
  },
  {
   "cell_type": "code",
   "execution_count": 21,
   "id": "29074b70",
   "metadata": {},
   "outputs": [
    {
     "data": {
      "application/vnd.plotly.v1+json": {
       "config": {
        "plotlyServerURL": "https://plot.ly"
       },
       "data": [
        {
         "colorscale": [
          [
           0,
           "#fff7f3"
          ],
          [
           0.25,
           "#fde0dd"
          ],
          [
           0.5,
           "#fa9fb5"
          ],
          [
           0.75,
           "#c51b8a"
          ],
          [
           1,
           "#7a0177"
          ]
         ],
         "type": "heatmap",
         "x": [
          "African + Female",
          "African + Male",
          "Asian + Female",
          "Asian + Male",
          "Caucasian + Female",
          "Caucasian + Male",
          "Hispanic + Female",
          "Hispanic + Male"
         ],
         "y": [
          "Anxiety Only",
          "Both",
          "Depression Only",
          "None"
         ],
         "z": [
          [
           0.31724137931034485,
           0.24022346368715083,
           0.22009569377990432,
           0.288135593220339,
           0.2660098522167488,
           0.22564102564102564,
           0.24210526315789474,
           0.24257425742574257
          ],
          [
           0.2206896551724138,
           0.24022346368715083,
           0.291866028708134,
           0.2994350282485876,
           0.22167487684729065,
           0.2564102564102564,
           0.21052631578947367,
           0.2376237623762376
          ],
          [
           0.25517241379310346,
           0.30726256983240224,
           0.2631578947368421,
           0.24293785310734464,
           0.2561576354679803,
           0.2512820512820513,
           0.30526315789473685,
           0.2524752475247525
          ],
          [
           0.20689655172413793,
           0.2122905027932961,
           0.22488038277511962,
           0.1694915254237288,
           0.2561576354679803,
           0.26666666666666666,
           0.24210526315789474,
           0.26732673267326734
          ]
         ]
        }
       ],
       "layout": {
        "template": {
         "data": {
          "bar": [
           {
            "error_x": {
             "color": "#2a3f5f"
            },
            "error_y": {
             "color": "#2a3f5f"
            },
            "marker": {
             "line": {
              "color": "#E5ECF6",
              "width": 0.5
             },
             "pattern": {
              "fillmode": "overlay",
              "size": 10,
              "solidity": 0.2
             }
            },
            "type": "bar"
           }
          ],
          "barpolar": [
           {
            "marker": {
             "line": {
              "color": "#E5ECF6",
              "width": 0.5
             },
             "pattern": {
              "fillmode": "overlay",
              "size": 10,
              "solidity": 0.2
             }
            },
            "type": "barpolar"
           }
          ],
          "carpet": [
           {
            "aaxis": {
             "endlinecolor": "#2a3f5f",
             "gridcolor": "white",
             "linecolor": "white",
             "minorgridcolor": "white",
             "startlinecolor": "#2a3f5f"
            },
            "baxis": {
             "endlinecolor": "#2a3f5f",
             "gridcolor": "white",
             "linecolor": "white",
             "minorgridcolor": "white",
             "startlinecolor": "#2a3f5f"
            },
            "type": "carpet"
           }
          ],
          "choropleth": [
           {
            "colorbar": {
             "outlinewidth": 0,
             "ticks": ""
            },
            "type": "choropleth"
           }
          ],
          "contour": [
           {
            "colorbar": {
             "outlinewidth": 0,
             "ticks": ""
            },
            "colorscale": [
             [
              0,
              "#0d0887"
             ],
             [
              0.1111111111111111,
              "#46039f"
             ],
             [
              0.2222222222222222,
              "#7201a8"
             ],
             [
              0.3333333333333333,
              "#9c179e"
             ],
             [
              0.4444444444444444,
              "#bd3786"
             ],
             [
              0.5555555555555556,
              "#d8576b"
             ],
             [
              0.6666666666666666,
              "#ed7953"
             ],
             [
              0.7777777777777778,
              "#fb9f3a"
             ],
             [
              0.8888888888888888,
              "#fdca26"
             ],
             [
              1,
              "#f0f921"
             ]
            ],
            "type": "contour"
           }
          ],
          "contourcarpet": [
           {
            "colorbar": {
             "outlinewidth": 0,
             "ticks": ""
            },
            "type": "contourcarpet"
           }
          ],
          "heatmap": [
           {
            "colorbar": {
             "outlinewidth": 0,
             "ticks": ""
            },
            "colorscale": [
             [
              0,
              "#0d0887"
             ],
             [
              0.1111111111111111,
              "#46039f"
             ],
             [
              0.2222222222222222,
              "#7201a8"
             ],
             [
              0.3333333333333333,
              "#9c179e"
             ],
             [
              0.4444444444444444,
              "#bd3786"
             ],
             [
              0.5555555555555556,
              "#d8576b"
             ],
             [
              0.6666666666666666,
              "#ed7953"
             ],
             [
              0.7777777777777778,
              "#fb9f3a"
             ],
             [
              0.8888888888888888,
              "#fdca26"
             ],
             [
              1,
              "#f0f921"
             ]
            ],
            "type": "heatmap"
           }
          ],
          "heatmapgl": [
           {
            "colorbar": {
             "outlinewidth": 0,
             "ticks": ""
            },
            "colorscale": [
             [
              0,
              "#0d0887"
             ],
             [
              0.1111111111111111,
              "#46039f"
             ],
             [
              0.2222222222222222,
              "#7201a8"
             ],
             [
              0.3333333333333333,
              "#9c179e"
             ],
             [
              0.4444444444444444,
              "#bd3786"
             ],
             [
              0.5555555555555556,
              "#d8576b"
             ],
             [
              0.6666666666666666,
              "#ed7953"
             ],
             [
              0.7777777777777778,
              "#fb9f3a"
             ],
             [
              0.8888888888888888,
              "#fdca26"
             ],
             [
              1,
              "#f0f921"
             ]
            ],
            "type": "heatmapgl"
           }
          ],
          "histogram": [
           {
            "marker": {
             "pattern": {
              "fillmode": "overlay",
              "size": 10,
              "solidity": 0.2
             }
            },
            "type": "histogram"
           }
          ],
          "histogram2d": [
           {
            "colorbar": {
             "outlinewidth": 0,
             "ticks": ""
            },
            "colorscale": [
             [
              0,
              "#0d0887"
             ],
             [
              0.1111111111111111,
              "#46039f"
             ],
             [
              0.2222222222222222,
              "#7201a8"
             ],
             [
              0.3333333333333333,
              "#9c179e"
             ],
             [
              0.4444444444444444,
              "#bd3786"
             ],
             [
              0.5555555555555556,
              "#d8576b"
             ],
             [
              0.6666666666666666,
              "#ed7953"
             ],
             [
              0.7777777777777778,
              "#fb9f3a"
             ],
             [
              0.8888888888888888,
              "#fdca26"
             ],
             [
              1,
              "#f0f921"
             ]
            ],
            "type": "histogram2d"
           }
          ],
          "histogram2dcontour": [
           {
            "colorbar": {
             "outlinewidth": 0,
             "ticks": ""
            },
            "colorscale": [
             [
              0,
              "#0d0887"
             ],
             [
              0.1111111111111111,
              "#46039f"
             ],
             [
              0.2222222222222222,
              "#7201a8"
             ],
             [
              0.3333333333333333,
              "#9c179e"
             ],
             [
              0.4444444444444444,
              "#bd3786"
             ],
             [
              0.5555555555555556,
              "#d8576b"
             ],
             [
              0.6666666666666666,
              "#ed7953"
             ],
             [
              0.7777777777777778,
              "#fb9f3a"
             ],
             [
              0.8888888888888888,
              "#fdca26"
             ],
             [
              1,
              "#f0f921"
             ]
            ],
            "type": "histogram2dcontour"
           }
          ],
          "mesh3d": [
           {
            "colorbar": {
             "outlinewidth": 0,
             "ticks": ""
            },
            "type": "mesh3d"
           }
          ],
          "parcoords": [
           {
            "line": {
             "colorbar": {
              "outlinewidth": 0,
              "ticks": ""
             }
            },
            "type": "parcoords"
           }
          ],
          "pie": [
           {
            "automargin": true,
            "type": "pie"
           }
          ],
          "scatter": [
           {
            "fillpattern": {
             "fillmode": "overlay",
             "size": 10,
             "solidity": 0.2
            },
            "type": "scatter"
           }
          ],
          "scatter3d": [
           {
            "line": {
             "colorbar": {
              "outlinewidth": 0,
              "ticks": ""
             }
            },
            "marker": {
             "colorbar": {
              "outlinewidth": 0,
              "ticks": ""
             }
            },
            "type": "scatter3d"
           }
          ],
          "scattercarpet": [
           {
            "marker": {
             "colorbar": {
              "outlinewidth": 0,
              "ticks": ""
             }
            },
            "type": "scattercarpet"
           }
          ],
          "scattergeo": [
           {
            "marker": {
             "colorbar": {
              "outlinewidth": 0,
              "ticks": ""
             }
            },
            "type": "scattergeo"
           }
          ],
          "scattergl": [
           {
            "marker": {
             "colorbar": {
              "outlinewidth": 0,
              "ticks": ""
             }
            },
            "type": "scattergl"
           }
          ],
          "scattermapbox": [
           {
            "marker": {
             "colorbar": {
              "outlinewidth": 0,
              "ticks": ""
             }
            },
            "type": "scattermapbox"
           }
          ],
          "scatterpolar": [
           {
            "marker": {
             "colorbar": {
              "outlinewidth": 0,
              "ticks": ""
             }
            },
            "type": "scatterpolar"
           }
          ],
          "scatterpolargl": [
           {
            "marker": {
             "colorbar": {
              "outlinewidth": 0,
              "ticks": ""
             }
            },
            "type": "scatterpolargl"
           }
          ],
          "scatterternary": [
           {
            "marker": {
             "colorbar": {
              "outlinewidth": 0,
              "ticks": ""
             }
            },
            "type": "scatterternary"
           }
          ],
          "surface": [
           {
            "colorbar": {
             "outlinewidth": 0,
             "ticks": ""
            },
            "colorscale": [
             [
              0,
              "#0d0887"
             ],
             [
              0.1111111111111111,
              "#46039f"
             ],
             [
              0.2222222222222222,
              "#7201a8"
             ],
             [
              0.3333333333333333,
              "#9c179e"
             ],
             [
              0.4444444444444444,
              "#bd3786"
             ],
             [
              0.5555555555555556,
              "#d8576b"
             ],
             [
              0.6666666666666666,
              "#ed7953"
             ],
             [
              0.7777777777777778,
              "#fb9f3a"
             ],
             [
              0.8888888888888888,
              "#fdca26"
             ],
             [
              1,
              "#f0f921"
             ]
            ],
            "type": "surface"
           }
          ],
          "table": [
           {
            "cells": {
             "fill": {
              "color": "#EBF0F8"
             },
             "line": {
              "color": "white"
             }
            },
            "header": {
             "fill": {
              "color": "#C8D4E3"
             },
             "line": {
              "color": "white"
             }
            },
            "type": "table"
           }
          ]
         },
         "layout": {
          "annotationdefaults": {
           "arrowcolor": "#2a3f5f",
           "arrowhead": 0,
           "arrowwidth": 1
          },
          "autotypenumbers": "strict",
          "coloraxis": {
           "colorbar": {
            "outlinewidth": 0,
            "ticks": ""
           }
          },
          "colorscale": {
           "diverging": [
            [
             0,
             "#8e0152"
            ],
            [
             0.1,
             "#c51b7d"
            ],
            [
             0.2,
             "#de77ae"
            ],
            [
             0.3,
             "#f1b6da"
            ],
            [
             0.4,
             "#fde0ef"
            ],
            [
             0.5,
             "#f7f7f7"
            ],
            [
             0.6,
             "#e6f5d0"
            ],
            [
             0.7,
             "#b8e186"
            ],
            [
             0.8,
             "#7fbc41"
            ],
            [
             0.9,
             "#4d9221"
            ],
            [
             1,
             "#276419"
            ]
           ],
           "sequential": [
            [
             0,
             "#0d0887"
            ],
            [
             0.1111111111111111,
             "#46039f"
            ],
            [
             0.2222222222222222,
             "#7201a8"
            ],
            [
             0.3333333333333333,
             "#9c179e"
            ],
            [
             0.4444444444444444,
             "#bd3786"
            ],
            [
             0.5555555555555556,
             "#d8576b"
            ],
            [
             0.6666666666666666,
             "#ed7953"
            ],
            [
             0.7777777777777778,
             "#fb9f3a"
            ],
            [
             0.8888888888888888,
             "#fdca26"
            ],
            [
             1,
             "#f0f921"
            ]
           ],
           "sequentialminus": [
            [
             0,
             "#0d0887"
            ],
            [
             0.1111111111111111,
             "#46039f"
            ],
            [
             0.2222222222222222,
             "#7201a8"
            ],
            [
             0.3333333333333333,
             "#9c179e"
            ],
            [
             0.4444444444444444,
             "#bd3786"
            ],
            [
             0.5555555555555556,
             "#d8576b"
            ],
            [
             0.6666666666666666,
             "#ed7953"
            ],
            [
             0.7777777777777778,
             "#fb9f3a"
            ],
            [
             0.8888888888888888,
             "#fdca26"
            ],
            [
             1,
             "#f0f921"
            ]
           ]
          },
          "colorway": [
           "#636efa",
           "#EF553B",
           "#00cc96",
           "#ab63fa",
           "#FFA15A",
           "#19d3f3",
           "#FF6692",
           "#B6E880",
           "#FF97FF",
           "#FECB52"
          ],
          "font": {
           "color": "#2a3f5f"
          },
          "geo": {
           "bgcolor": "white",
           "lakecolor": "white",
           "landcolor": "#E5ECF6",
           "showlakes": true,
           "showland": true,
           "subunitcolor": "white"
          },
          "hoverlabel": {
           "align": "left"
          },
          "hovermode": "closest",
          "mapbox": {
           "style": "light"
          },
          "paper_bgcolor": "white",
          "plot_bgcolor": "#E5ECF6",
          "polar": {
           "angularaxis": {
            "gridcolor": "white",
            "linecolor": "white",
            "ticks": ""
           },
           "bgcolor": "#E5ECF6",
           "radialaxis": {
            "gridcolor": "white",
            "linecolor": "white",
            "ticks": ""
           }
          },
          "scene": {
           "xaxis": {
            "backgroundcolor": "#E5ECF6",
            "gridcolor": "white",
            "gridwidth": 2,
            "linecolor": "white",
            "showbackground": true,
            "ticks": "",
            "zerolinecolor": "white"
           },
           "yaxis": {
            "backgroundcolor": "#E5ECF6",
            "gridcolor": "white",
            "gridwidth": 2,
            "linecolor": "white",
            "showbackground": true,
            "ticks": "",
            "zerolinecolor": "white"
           },
           "zaxis": {
            "backgroundcolor": "#E5ECF6",
            "gridcolor": "white",
            "gridwidth": 2,
            "linecolor": "white",
            "showbackground": true,
            "ticks": "",
            "zerolinecolor": "white"
           }
          },
          "shapedefaults": {
           "line": {
            "color": "#2a3f5f"
           }
          },
          "ternary": {
           "aaxis": {
            "gridcolor": "white",
            "linecolor": "white",
            "ticks": ""
           },
           "baxis": {
            "gridcolor": "white",
            "linecolor": "white",
            "ticks": ""
           },
           "bgcolor": "#E5ECF6",
           "caxis": {
            "gridcolor": "white",
            "linecolor": "white",
            "ticks": ""
           }
          },
          "title": {
           "x": 0.05
          },
          "xaxis": {
           "automargin": true,
           "gridcolor": "white",
           "linecolor": "white",
           "ticks": "",
           "title": {
            "standoff": 15
           },
           "zerolinecolor": "white",
           "zerolinewidth": 2
          },
          "yaxis": {
           "automargin": true,
           "gridcolor": "white",
           "linecolor": "white",
           "ticks": "",
           "title": {
            "standoff": 15
           },
           "zerolinecolor": "white",
           "zerolinewidth": 2
          }
         }
        },
        "title": {
         "text": "OCD Comorbidity by Gender × Ethnicity"
        }
       }
      }
     },
     "metadata": {},
     "output_type": "display_data"
    }
   ],
   "source": [
    "ctab_hmap = ctab_ethn_sex.reset_index()\n",
    "ctab_hmap[\"Ethnicity\"] = ctab_hmap[\"Ethnicity\"] + \" + \" + ctab_hmap[\"Sex\"]\n",
    "ctab_hmap = ctab_hmap.rename(columns={\"Ethnicity\": \n",
    "                        \"Ethnicity & Sex\"}).set_index(\"Ethnicity & Sex\")\n",
    "ctab_hmap = ctab_hmap.drop(columns=[\"Sex\"])\n",
    "ctab_hmap = ctab_hmap.T\n",
    "\n",
    "trace_hmap = go.Heatmap(\n",
    "    z=ctab_hmap.values,\n",
    "    x=ctab_hmap.columns,\n",
    "    y=ctab_hmap.index,\n",
    "    colorscale=colors_hmap)\n",
    "\n",
    "fig_hmap = go.Figure(data=[trace_hmap])\n",
    "fig_hmap.update_layout(title_text=\"OCD Comorbidity by Gender × Ethnicity\")\n",
    "fig_hmap.show()\n"
   ]
  },
  {
   "cell_type": "markdown",
   "id": "65b9e7fc",
   "metadata": {},
   "source": [
    "While no Gender x Ethnicity combination overwhelmingly dominates any one comorbidity category, the heatmap does provide some interesting insights, such as:\n",
    "\n",
    "1. <u>Distinct Peaks for `Depression Only`</u><br>\n",
    "`African Males` and `Hispanic Females` show pronounced proportions for the 'Depression Only' condition, together accounting for roughly 61% of all 'Depression Only' OCD patients.\n",
    "\n",
    "2. <u>High `Anxiety Only` in `African Females`</u><br> \n",
    "Roughly 32% of all 'Anxiety Only' OCD-patients are African Females`, suggesting the possibility of anxiety being a predominant comorbidity among this subgroup.\n",
    "\n",
    "3. <u>`Both` Condition Prominance in Asians</u><br>\n",
    "`Asian Females` and `Asian Males` show higher proportions of 'Both' (Anxiety & Depression comorbidities) category, together accounting for roughly 59% of all 'Both' Anxiety and Depression OCD patients. Further, Asian Males are the lowest occupants of the `None` comorbidity category."
   ]
  },
  {
   "cell_type": "markdown",
   "id": "12b66bdf",
   "metadata": {},
   "source": [
    "**Note: It is important to bear in mind that this is a synthetic dataset; therefore, the observed patterns should not be interpreted as conclusive evidence of real-world trends.**"
   ]
  },
  {
   "cell_type": "markdown",
   "id": "0f9ceb5d",
   "metadata": {},
   "source": [
    "### OCD Comorbidities by Education × Marital Status"
   ]
  },
  {
   "cell_type": "markdown",
   "id": "f7de456b",
   "metadata": {},
   "source": [
    "Each subgroup is defined by one specific combination of an education level, a marital status, and a comorbidity category. \n",
    "1. The mosaic plot is divided into 4 main columns along the x-axis, each representing one education level.<br> \n",
    "2. Each of these main columns is further divided into three squares along the y-axis, one for each marital status.<br> \n",
    "2. Within each of these squares are 4 colored bars, each representing one comorbidity condition. \n",
    "\n",
    "The rule of interpretation is as follows: the more space a particular comorbidity bar takes up within the square (i.e., the wider the comorbidity bar), the more prevalent that comorbidity condition is among OCD patients of a specific education level and marital status combination. \n",
    "\n",
    "In addition to the visual perspective provided by the mosaic plot, we also include a crosstabulation alongside to provide a quantitative perspective. While the mosaic plot emphasizes relative group sizes and visual patterns, the crosstab highlights the exact distribution of comorbidities across education × marital status combinations."
   ]
  },
  {
   "cell_type": "code",
   "execution_count": 22,
   "id": "de027e1d",
   "metadata": {},
   "outputs": [
    {
     "name": "stderr",
     "output_type": "stream",
     "text": [
      "C:\\Users\\tanis\\AppData\\Local\\Temp\\ipykernel_16752\\1830659295.py:21: FutureWarning:\n",
      "\n",
      "The default of observed=False is deprecated and will be changed to True in a future version of pandas. Pass observed=False to retain current behavior or observed=True to adopt the future default and silence this warning.\n",
      "\n"
     ]
    },
    {
     "data": {
      "image/png": "[encoded data removed]",
      "text/plain": [
       "<Figure size 640x480 with 3 Axes>"
      ]
     },
     "metadata": {},
     "output_type": "display_data"
    }
   ],
   "source": [
    "mosaic_df = pd.concat([comorbid_df, marital_cols,edu_cols], axis=1)\n",
    "ctab_mosaic_df = pd.crosstab(mosaic_df[\"Comorbidity\"], \n",
    "                [mosaic_df[\"Education Level\"], mosaic_df[\"Marital Status\"]])\n",
    "education_ordinal = [\"High School\", \"Some College\", \"College Degree\", \"Graduate Degree\"]\n",
    "\n",
    "comorbid_order = [\"Anxiety Only\", \"Depression Only\", \"None\", \"Both\"]\n",
    "marital_order = [\"Single\", \"Divorced\", \"Married\"]\n",
    "\n",
    "mosaic_df[\"Education Level\"] = pd.Categorical(mosaic_df[\"Education Level\"], \n",
    "                                                 categories=education_ordinal,\n",
    "                                                 ordered=True)\n",
    "mosaic_df[\"Comorbidity\"] = pd.Categorical(mosaic_df[\"Comorbidity\"], \n",
    "                                                 categories=comorbid_order,\n",
    "                                                 ordered=True)\n",
    "map_comorbid= {\"Depression Only\": \"D/o\", \"Anxiety Only\": \"A/o\", \n",
    "               \"Both\": \"Both\", \"None\": \"NA\"}\n",
    "mosaic_df[\"Comorbidity\"] = mosaic_df[\"Comorbidity\"].apply(lambda x: map_comorbid[x])\n",
    "mosaic_colors = {}\n",
    "for color_key, map_key in zip(colors_comorbid, map_comorbid):\n",
    "    mosaic_colors[map_comorbid[map_key]] = colors_comorbid[color_key]\n",
    "mosaic_df = mosaic_df.groupby([\"Education Level\", \"Marital Status\", \n",
    "                                     \"Comorbidity\"]).size()\n",
    "mosaic(mosaic_df,\n",
    "       labelizer=lambda label: \"\",properties=lambda dimen_tup: {\"color\": mosaic_colors[dimen_tup[-1]]})\n",
    "plt.title(\"Education x Marital Status x OCD Co-Condition\")\n",
    "plt.show()\n",
    "\n"
   ]
  },
  {
   "cell_type": "code",
   "execution_count": 23,
   "id": "4af3be6a",
   "metadata": {},
   "outputs": [
    {
     "data": {
      "text/html": [
       "<div>\n",
       "<style scoped>\n",
       "    .dataframe tbody tr th:only-of-type {\n",
       "        vertical-align: middle;\n",
       "    }\n",
       "\n",
       "    .dataframe tbody tr th {\n",
       "        vertical-align: top;\n",
       "    }\n",
       "\n",
       "    .dataframe thead tr th {\n",
       "        text-align: left;\n",
       "    }\n",
       "\n",
       "    .dataframe thead tr:last-of-type th {\n",
       "        text-align: right;\n",
       "    }\n",
       "</style>\n",
       "<table border=\"1\" class=\"dataframe\">\n",
       "  <thead>\n",
       "    <tr>\n",
       "      <th>Education Level</th>\n",
       "      <th colspan=\"3\" halign=\"left\">College Degree</th>\n",
       "      <th colspan=\"3\" halign=\"left\">Graduate Degree</th>\n",
       "      <th colspan=\"3\" halign=\"left\">High School</th>\n",
       "      <th colspan=\"3\" halign=\"left\">Some College</th>\n",
       "    </tr>\n",
       "    <tr>\n",
       "      <th>Marital Status</th>\n",
       "      <th>Divorced</th>\n",
       "      <th>Married</th>\n",
       "      <th>Single</th>\n",
       "      <th>Divorced</th>\n",
       "      <th>Married</th>\n",
       "      <th>Single</th>\n",
       "      <th>Divorced</th>\n",
       "      <th>Married</th>\n",
       "      <th>Single</th>\n",
       "      <th>Divorced</th>\n",
       "      <th>Married</th>\n",
       "      <th>Single</th>\n",
       "    </tr>\n",
       "    <tr>\n",
       "      <th>Comorbidity</th>\n",
       "      <th></th>\n",
       "      <th></th>\n",
       "      <th></th>\n",
       "      <th></th>\n",
       "      <th></th>\n",
       "      <th></th>\n",
       "      <th></th>\n",
       "      <th></th>\n",
       "      <th></th>\n",
       "      <th></th>\n",
       "      <th></th>\n",
       "      <th></th>\n",
       "    </tr>\n",
       "  </thead>\n",
       "  <tbody>\n",
       "    <tr>\n",
       "      <th>Anxiety Only</th>\n",
       "      <td>32</td>\n",
       "      <td>23</td>\n",
       "      <td>29</td>\n",
       "      <td>27</td>\n",
       "      <td>35</td>\n",
       "      <td>45</td>\n",
       "      <td>31</td>\n",
       "      <td>31</td>\n",
       "      <td>28</td>\n",
       "      <td>34</td>\n",
       "      <td>27</td>\n",
       "      <td>37</td>\n",
       "    </tr>\n",
       "    <tr>\n",
       "      <th>Both</th>\n",
       "      <td>29</td>\n",
       "      <td>38</td>\n",
       "      <td>21</td>\n",
       "      <td>37</td>\n",
       "      <td>37</td>\n",
       "      <td>28</td>\n",
       "      <td>23</td>\n",
       "      <td>34</td>\n",
       "      <td>27</td>\n",
       "      <td>35</td>\n",
       "      <td>31</td>\n",
       "      <td>32</td>\n",
       "    </tr>\n",
       "    <tr>\n",
       "      <th>Depression Only</th>\n",
       "      <td>31</td>\n",
       "      <td>35</td>\n",
       "      <td>38</td>\n",
       "      <td>28</td>\n",
       "      <td>25</td>\n",
       "      <td>29</td>\n",
       "      <td>39</td>\n",
       "      <td>28</td>\n",
       "      <td>39</td>\n",
       "      <td>31</td>\n",
       "      <td>34</td>\n",
       "      <td>43</td>\n",
       "    </tr>\n",
       "    <tr>\n",
       "      <th>None</th>\n",
       "      <td>27</td>\n",
       "      <td>28</td>\n",
       "      <td>35</td>\n",
       "      <td>29</td>\n",
       "      <td>27</td>\n",
       "      <td>29</td>\n",
       "      <td>28</td>\n",
       "      <td>32</td>\n",
       "      <td>24</td>\n",
       "      <td>21</td>\n",
       "      <td>42</td>\n",
       "      <td>27</td>\n",
       "    </tr>\n",
       "  </tbody>\n",
       "</table>\n",
       "</div>"
      ],
      "text/plain": [
       "Education Level College Degree                Graduate Degree                 \\\n",
       "Marital Status        Divorced Married Single        Divorced Married Single   \n",
       "Comorbidity                                                                    \n",
       "Anxiety Only                32      23     29              27      35     45   \n",
       "Both                        29      38     21              37      37     28   \n",
       "Depression Only             31      35     38              28      25     29   \n",
       "None                        27      28     35              29      27     29   \n",
       "\n",
       "Education Level High School                Some College                 \n",
       "Marital Status     Divorced Married Single     Divorced Married Single  \n",
       "Comorbidity                                                             \n",
       "Anxiety Only             31      31     28           34      27     37  \n",
       "Both                     23      34     27           35      31     32  \n",
       "Depression Only          39      28     39           31      34     43  \n",
       "None                     28      32     24           21      42     27  "
      ]
     },
     "execution_count": 23,
     "metadata": {},
     "output_type": "execute_result"
    }
   ],
   "source": [
    "ctab_mosaic_df"
   ]
  },
  {
   "cell_type": "markdown",
   "id": "ee1e804d",
   "metadata": {},
   "source": [
    "The mosaic plot of Education × Marital Status against Comorbidity categories does not suggest any strong associations. The distribution of colors within each cell is more or less consistent, indicating that the relative proportions of comorbidity categories remain stable across education levels and marital statuses.\n",
    "\n",
    "No monotonic trend is visible with education: moving from `High School` through `Graduate Degree`, none of the comorbidity categories shows a consistent rise or fall. Likewise, within each education level, `Single`, `Married`, and `Divorced` groups display similar profiles, suggesting little to no interaction between education and marital status in shaping comorbidity outcomes.\n",
    "\n",
    "While a few cells (e.g., Divorced × Graduate Degree) show slightly wider bands for one category, these variations are small, inconsistent, and likely attributable to sampling noise, especially given the synthetic nature of the dataset. Overall, the mosaic plot implies that education and marital status contribute minimally, if at all, to predicting comorbidity status in OCD."
   ]
  },
  {
   "cell_type": "markdown",
   "id": "352b03e5",
   "metadata": {},
   "source": [
    "### OCD Patients Through Ethnicity, Education Level, Marital Status: A Flow to OCD Comorbidity"
   ]
  },
  {
   "cell_type": "markdown",
   "id": "4da7a352",
   "metadata": {},
   "source": [
    "As the final step in our exploratory data analysis, we use a Sankey diagram to visualize how patients progress through multiple demographic categories: Ethnicity → Education Level → Marital Status → Comorbidity Category. This diagram provides a holistic view of the dataset, showing the distribution and flow of patients across these factors in a single visualization.\n",
    "\n",
    "The width of each flow corresponds to the number of patients in that pathway, offering insight into subgroup sizes and potential patterns. Note that this diagram reflects raw counts, so differences may be influenced by sample sizes rather than strong associations."
   ]
  },
  {
   "cell_type": "code",
   "execution_count": 24,
   "id": "c84d7982",
   "metadata": {},
   "outputs": [
    {
     "data": {
      "application/vnd.plotly.v1+json": {
       "config": {
        "plotlyServerURL": "https://plot.ly"
       },
       "data": [
        {
         "link": {
          "color": [
           "#3f93b1",
           "#4383f0",
           "#336f64",
           "#59b6b3",
           "#3f93b1",
           "#4383f0",
           "#336f64",
           "#59b6b3",
           "#3f93b1",
           "#4383f0",
           "#336f64",
           "#59b6b3",
           "#3f93b1",
           "#4383f0",
           "#336f64",
           "#59b6b3",
           "#9354ed",
           "#a88ede",
           "#d6ade2",
           "#9354ed",
           "#a88ede",
           "#d6ade2",
           "#9354ed",
           "#a88ede",
           "#d6ade2",
           "#9354ed",
           "#a88ede",
           "#d6ade2",
           "#fbb2f8",
           "#7a0177",
           "#c51b8a",
           "#fa9fb5",
           "#fbb2f8",
           "#7a0177",
           "#c51b8a",
           "#fa9fb5",
           "#fbb2f8",
           "#7a0177",
           "#c51b8a",
           "#fa9fb5"
          ],
          "source": [
           0,
           0,
           0,
           0,
           1,
           1,
           1,
           1,
           2,
           2,
           2,
           2,
           3,
           3,
           3,
           3,
           4,
           4,
           4,
           5,
           5,
           5,
           6,
           6,
           6,
           7,
           7,
           7,
           8,
           8,
           8,
           8,
           9,
           9,
           9,
           9,
           10,
           10,
           10,
           10
          ],
          "target": [
           4,
           5,
           6,
           7,
           4,
           5,
           6,
           7,
           4,
           5,
           6,
           7,
           4,
           5,
           6,
           7,
           8,
           9,
           10,
           8,
           9,
           10,
           8,
           9,
           10,
           8,
           9,
           10,
           11,
           12,
           13,
           14,
           11,
           12,
           13,
           14,
           11,
           12,
           13,
           14
          ],
          "value": [
           75,
           76,
           92,
           81,
           99,
           91,
           90,
           106,
           94,
           118,
           93,
           93,
           98,
           91,
           89,
           114,
           119,
           124,
           123,
           121,
           124,
           131,
           121,
           125,
           118,
           121,
           134,
           139,
           124,
           124,
           129,
           105,
           116,
           140,
           122,
           129,
           139,
           108,
           149,
           115
          ]
         },
         "node": {
          "color": [
           "#dcfbae",
           "#3fd790",
           "#3c975d",
           "#95e4a3",
           "#3f93b1",
           "#4383f0",
           "#336f64",
           "#59b6b3",
           "#9354ed",
           "#a88ede",
           "#d6ade2",
           "#fbb2f8",
           "#7a0177",
           "#c51b8a",
           "#fa9fb5"
          ],
          "label": [
           "African",
           "Asian",
           "Caucasian",
           "Hispanic",
           "College Degree",
           "Graduate Degree",
           "High School",
           "Some College",
           "Divorced",
           "Married",
           "Single",
           "Anxiety Only",
           "Both",
           "Depression Only",
           "None"
          ],
          "line": {
           "color": "black",
           "width": 0.5
          },
          "pad": 15,
          "thickness": 20
         },
         "type": "sankey"
        }
       ],
       "layout": {
        "template": {
         "data": {
          "bar": [
           {
            "error_x": {
             "color": "#2a3f5f"
            },
            "error_y": {
             "color": "#2a3f5f"
            },
            "marker": {
             "line": {
              "color": "#E5ECF6",
              "width": 0.5
             },
             "pattern": {
              "fillmode": "overlay",
              "size": 10,
              "solidity": 0.2
             }
            },
            "type": "bar"
           }
          ],
          "barpolar": [
           {
            "marker": {
             "line": {
              "color": "#E5ECF6",
              "width": 0.5
             },
             "pattern": {
              "fillmode": "overlay",
              "size": 10,
              "solidity": 0.2
             }
            },
            "type": "barpolar"
           }
          ],
          "carpet": [
           {
            "aaxis": {
             "endlinecolor": "#2a3f5f",
             "gridcolor": "white",
             "linecolor": "white",
             "minorgridcolor": "white",
             "startlinecolor": "#2a3f5f"
            },
            "baxis": {
             "endlinecolor": "#2a3f5f",
             "gridcolor": "white",
             "linecolor": "white",
             "minorgridcolor": "white",
             "startlinecolor": "#2a3f5f"
            },
            "type": "carpet"
           }
          ],
          "choropleth": [
           {
            "colorbar": {
             "outlinewidth": 0,
             "ticks": ""
            },
            "type": "choropleth"
           }
          ],
          "contour": [
           {
            "colorbar": {
             "outlinewidth": 0,
             "ticks": ""
            },
            "colorscale": [
             [
              0,
              "#0d0887"
             ],
             [
              0.1111111111111111,
              "#46039f"
             ],
             [
              0.2222222222222222,
              "#7201a8"
             ],
             [
              0.3333333333333333,
              "#9c179e"
             ],
             [
              0.4444444444444444,
              "#bd3786"
             ],
             [
              0.5555555555555556,
              "#d8576b"
             ],
             [
              0.6666666666666666,
              "#ed7953"
             ],
             [
              0.7777777777777778,
              "#fb9f3a"
             ],
             [
              0.8888888888888888,
              "#fdca26"
             ],
             [
              1,
              "#f0f921"
             ]
            ],
            "type": "contour"
           }
          ],
          "contourcarpet": [
           {
            "colorbar": {
             "outlinewidth": 0,
             "ticks": ""
            },
            "type": "contourcarpet"
           }
          ],
          "heatmap": [
           {
            "colorbar": {
             "outlinewidth": 0,
             "ticks": ""
            },
            "colorscale": [
             [
              0,
              "#0d0887"
             ],
             [
              0.1111111111111111,
              "#46039f"
             ],
             [
              0.2222222222222222,
              "#7201a8"
             ],
             [
              0.3333333333333333,
              "#9c179e"
             ],
             [
              0.4444444444444444,
              "#bd3786"
             ],
             [
              0.5555555555555556,
              "#d8576b"
             ],
             [
              0.6666666666666666,
              "#ed7953"
             ],
             [
              0.7777777777777778,
              "#fb9f3a"
             ],
             [
              0.8888888888888888,
              "#fdca26"
             ],
             [
              1,
              "#f0f921"
             ]
            ],
            "type": "heatmap"
           }
          ],
          "heatmapgl": [
           {
            "colorbar": {
             "outlinewidth": 0,
             "ticks": ""
            },
            "colorscale": [
             [
              0,
              "#0d0887"
             ],
             [
              0.1111111111111111,
              "#46039f"
             ],
             [
              0.2222222222222222,
              "#7201a8"
             ],
             [
              0.3333333333333333,
              "#9c179e"
             ],
             [
              0.4444444444444444,
              "#bd3786"
             ],
             [
              0.5555555555555556,
              "#d8576b"
             ],
             [
              0.6666666666666666,
              "#ed7953"
             ],
             [
              0.7777777777777778,
              "#fb9f3a"
             ],
             [
              0.8888888888888888,
              "#fdca26"
             ],
             [
              1,
              "#f0f921"
             ]
            ],
            "type": "heatmapgl"
           }
          ],
          "histogram": [
           {
            "marker": {
             "pattern": {
              "fillmode": "overlay",
              "size": 10,
              "solidity": 0.2
             }
            },
            "type": "histogram"
           }
          ],
          "histogram2d": [
           {
            "colorbar": {
             "outlinewidth": 0,
             "ticks": ""
            },
            "colorscale": [
             [
              0,
              "#0d0887"
             ],
             [
              0.1111111111111111,
              "#46039f"
             ],
             [
              0.2222222222222222,
              "#7201a8"
             ],
             [
              0.3333333333333333,
              "#9c179e"
             ],
             [
              0.4444444444444444,
              "#bd3786"
             ],
             [
              0.5555555555555556,
              "#d8576b"
             ],
             [
              0.6666666666666666,
              "#ed7953"
             ],
             [
              0.7777777777777778,
              "#fb9f3a"
             ],
             [
              0.8888888888888888,
              "#fdca26"
             ],
             [
              1,
              "#f0f921"
             ]
            ],
            "type": "histogram2d"
           }
          ],
          "histogram2dcontour": [
           {
            "colorbar": {
             "outlinewidth": 0,
             "ticks": ""
            },
            "colorscale": [
             [
              0,
              "#0d0887"
             ],
             [
              0.1111111111111111,
              "#46039f"
             ],
             [
              0.2222222222222222,
              "#7201a8"
             ],
             [
              0.3333333333333333,
              "#9c179e"
             ],
             [
              0.4444444444444444,
              "#bd3786"
             ],
             [
              0.5555555555555556,
              "#d8576b"
             ],
             [
              0.6666666666666666,
              "#ed7953"
             ],
             [
              0.7777777777777778,
              "#fb9f3a"
             ],
             [
              0.8888888888888888,
              "#fdca26"
             ],
             [
              1,
              "#f0f921"
             ]
            ],
            "type": "histogram2dcontour"
           }
          ],
          "mesh3d": [
           {
            "colorbar": {
             "outlinewidth": 0,
             "ticks": ""
            },
            "type": "mesh3d"
           }
          ],
          "parcoords": [
           {
            "line": {
             "colorbar": {
              "outlinewidth": 0,
              "ticks": ""
             }
            },
            "type": "parcoords"
           }
          ],
          "pie": [
           {
            "automargin": true,
            "type": "pie"
           }
          ],
          "scatter": [
           {
            "fillpattern": {
             "fillmode": "overlay",
             "size": 10,
             "solidity": 0.2
            },
            "type": "scatter"
           }
          ],
          "scatter3d": [
           {
            "line": {
             "colorbar": {
              "outlinewidth": 0,
              "ticks": ""
             }
            },
            "marker": {
             "colorbar": {
              "outlinewidth": 0,
              "ticks": ""
             }
            },
            "type": "scatter3d"
           }
          ],
          "scattercarpet": [
           {
            "marker": {
             "colorbar": {
              "outlinewidth": 0,
              "ticks": ""
             }
            },
            "type": "scattercarpet"
           }
          ],
          "scattergeo": [
           {
            "marker": {
             "colorbar": {
              "outlinewidth": 0,
              "ticks": ""
             }
            },
            "type": "scattergeo"
           }
          ],
          "scattergl": [
           {
            "marker": {
             "colorbar": {
              "outlinewidth": 0,
              "ticks": ""
             }
            },
            "type": "scattergl"
           }
          ],
          "scattermapbox": [
           {
            "marker": {
             "colorbar": {
              "outlinewidth": 0,
              "ticks": ""
             }
            },
            "type": "scattermapbox"
           }
          ],
          "scatterpolar": [
           {
            "marker": {
             "colorbar": {
              "outlinewidth": 0,
              "ticks": ""
             }
            },
            "type": "scatterpolar"
           }
          ],
          "scatterpolargl": [
           {
            "marker": {
             "colorbar": {
              "outlinewidth": 0,
              "ticks": ""
             }
            },
            "type": "scatterpolargl"
           }
          ],
          "scatterternary": [
           {
            "marker": {
             "colorbar": {
              "outlinewidth": 0,
              "ticks": ""
             }
            },
            "type": "scatterternary"
           }
          ],
          "surface": [
           {
            "colorbar": {
             "outlinewidth": 0,
             "ticks": ""
            },
            "colorscale": [
             [
              0,
              "#0d0887"
             ],
             [
              0.1111111111111111,
              "#46039f"
             ],
             [
              0.2222222222222222,
              "#7201a8"
             ],
             [
              0.3333333333333333,
              "#9c179e"
             ],
             [
              0.4444444444444444,
              "#bd3786"
             ],
             [
              0.5555555555555556,
              "#d8576b"
             ],
             [
              0.6666666666666666,
              "#ed7953"
             ],
             [
              0.7777777777777778,
              "#fb9f3a"
             ],
             [
              0.8888888888888888,
              "#fdca26"
             ],
             [
              1,
              "#f0f921"
             ]
            ],
            "type": "surface"
           }
          ],
          "table": [
           {
            "cells": {
             "fill": {
              "color": "#EBF0F8"
             },
             "line": {
              "color": "white"
             }
            },
            "header": {
             "fill": {
              "color": "#C8D4E3"
             },
             "line": {
              "color": "white"
             }
            },
            "type": "table"
           }
          ]
         },
         "layout": {
          "annotationdefaults": {
           "arrowcolor": "#2a3f5f",
           "arrowhead": 0,
           "arrowwidth": 1
          },
          "autotypenumbers": "strict",
          "coloraxis": {
           "colorbar": {
            "outlinewidth": 0,
            "ticks": ""
           }
          },
          "colorscale": {
           "diverging": [
            [
             0,
             "#8e0152"
            ],
            [
             0.1,
             "#c51b7d"
            ],
            [
             0.2,
             "#de77ae"
            ],
            [
             0.3,
             "#f1b6da"
            ],
            [
             0.4,
             "#fde0ef"
            ],
            [
             0.5,
             "#f7f7f7"
            ],
            [
             0.6,
             "#e6f5d0"
            ],
            [
             0.7,
             "#b8e186"
            ],
            [
             0.8,
             "#7fbc41"
            ],
            [
             0.9,
             "#4d9221"
            ],
            [
             1,
             "#276419"
            ]
           ],
           "sequential": [
            [
             0,
             "#0d0887"
            ],
            [
             0.1111111111111111,
             "#46039f"
            ],
            [
             0.2222222222222222,
             "#7201a8"
            ],
            [
             0.3333333333333333,
             "#9c179e"
            ],
            [
             0.4444444444444444,
             "#bd3786"
            ],
            [
             0.5555555555555556,
             "#d8576b"
            ],
            [
             0.6666666666666666,
             "#ed7953"
            ],
            [
             0.7777777777777778,
             "#fb9f3a"
            ],
            [
             0.8888888888888888,
             "#fdca26"
            ],
            [
             1,
             "#f0f921"
            ]
           ],
           "sequentialminus": [
            [
             0,
             "#0d0887"
            ],
            [
             0.1111111111111111,
             "#46039f"
            ],
            [
             0.2222222222222222,
             "#7201a8"
            ],
            [
             0.3333333333333333,
             "#9c179e"
            ],
            [
             0.4444444444444444,
             "#bd3786"
            ],
            [
             0.5555555555555556,
             "#d8576b"
            ],
            [
             0.6666666666666666,
             "#ed7953"
            ],
            [
             0.7777777777777778,
             "#fb9f3a"
            ],
            [
             0.8888888888888888,
             "#fdca26"
            ],
            [
             1,
             "#f0f921"
            ]
           ]
          },
          "colorway": [
           "#636efa",
           "#EF553B",
           "#00cc96",
           "#ab63fa",
           "#FFA15A",
           "#19d3f3",
           "#FF6692",
           "#B6E880",
           "#FF97FF",
           "#FECB52"
          ],
          "font": {
           "color": "#2a3f5f"
          },
          "geo": {
           "bgcolor": "white",
           "lakecolor": "white",
           "landcolor": "#E5ECF6",
           "showlakes": true,
           "showland": true,
           "subunitcolor": "white"
          },
          "hoverlabel": {
           "align": "left"
          },
          "hovermode": "closest",
          "mapbox": {
           "style": "light"
          },
          "paper_bgcolor": "white",
          "plot_bgcolor": "#E5ECF6",
          "polar": {
           "angularaxis": {
            "gridcolor": "white",
            "linecolor": "white",
            "ticks": ""
           },
           "bgcolor": "#E5ECF6",
           "radialaxis": {
            "gridcolor": "white",
            "linecolor": "white",
            "ticks": ""
           }
          },
          "scene": {
           "xaxis": {
            "backgroundcolor": "#E5ECF6",
            "gridcolor": "white",
            "gridwidth": 2,
            "linecolor": "white",
            "showbackground": true,
            "ticks": "",
            "zerolinecolor": "white"
           },
           "yaxis": {
            "backgroundcolor": "#E5ECF6",
            "gridcolor": "white",
            "gridwidth": 2,
            "linecolor": "white",
            "showbackground": true,
            "ticks": "",
            "zerolinecolor": "white"
           },
           "zaxis": {
            "backgroundcolor": "#E5ECF6",
            "gridcolor": "white",
            "gridwidth": 2,
            "linecolor": "white",
            "showbackground": true,
            "ticks": "",
            "zerolinecolor": "white"
           }
          },
          "shapedefaults": {
           "line": {
            "color": "#2a3f5f"
           }
          },
          "ternary": {
           "aaxis": {
            "gridcolor": "white",
            "linecolor": "white",
            "ticks": ""
           },
           "baxis": {
            "gridcolor": "white",
            "linecolor": "white",
            "ticks": ""
           },
           "bgcolor": "#E5ECF6",
           "caxis": {
            "gridcolor": "white",
            "linecolor": "white",
            "ticks": ""
           }
          },
          "title": {
           "x": 0.05
          },
          "xaxis": {
           "automargin": true,
           "gridcolor": "white",
           "linecolor": "white",
           "ticks": "",
           "title": {
            "standoff": 15
           },
           "zerolinecolor": "white",
           "zerolinewidth": 2
          },
          "yaxis": {
           "automargin": true,
           "gridcolor": "white",
           "linecolor": "white",
           "ticks": "",
           "title": {
            "standoff": 15
           },
           "zerolinecolor": "white",
           "zerolinewidth": 2
          }
         }
        },
        "title": {
         "text": "Flow of OCD Patients Across Demographic and Comorbidity Categories"
        }
       }
      }
     },
     "metadata": {},
     "output_type": "display_data"
    }
   ],
   "source": [
    "sankey_df = pd.concat([\n",
    "    comorbid_df, edu_cols, ethn_cols, marital_cols\n",
    "], axis=1).groupby([\"Ethnicity\", \"Education Level\", \n",
    "                    \"Marital Status\", \"Comorbidity\"]).size()\\\n",
    ".reset_index(name=\"Count\")\n",
    "\n",
    "#identifying all unique nodes\n",
    "nodes = pd.concat([sankey_df[\"Ethnicity\"],sankey_df[\"Education Level\"],\n",
    "           sankey_df[\"Marital Status\"],sankey_df[\"Comorbidity\"]]).unique().tolist()\n",
    "\n",
    "#assigning numeric IDs to each node\n",
    "node_id = {name: id for id, name in enumerate(nodes)}\n",
    "\n",
    "#counting the flows for each of the three stages\n",
    "\n",
    "#stage 1: ethnicity --> education\n",
    "stage_1 = sankey_df[[\"Ethnicity\", \"Education Level\", \n",
    "                     \"Count\"]].groupby([\"Ethnicity\", \n",
    "                        \"Education Level\"]).sum().reset_index()\n",
    "\n",
    "#stage 2: education --> marital status\n",
    "stage_2 = sankey_df[[\"Education Level\", \"Marital Status\",\n",
    "                     \"Count\"]].groupby([\"Education Level\",\n",
    "                        \"Marital Status\"]).sum().reset_index()\n",
    "\n",
    "#stage 3: marital status --> co-occuring condition\n",
    "stage_3 = sankey_df[[\"Marital Status\", \"Comorbidity\",\n",
    "                     \"Count\"]].groupby([\"Marital Status\",\n",
    "                            \"Comorbidity\"]).sum().reset_index()\n",
    "\n",
    "#creating source, target, value lists\n",
    "source_stage_1 = stage_1[\"Ethnicity\"].apply(lambda x: node_id[x]).tolist()\n",
    "target_stage_1 = stage_1[\"Education Level\"].apply(lambda x: node_id[x]).tolist()\n",
    "vals_stage_1 = stage_1[\"Count\"].tolist()\n",
    "\n",
    "source_stage_2 = stage_2[\"Education Level\"].apply(lambda x: node_id[x]).tolist()\n",
    "target_stage_2 = stage_2[\"Marital Status\"].apply(lambda x: node_id[x]).tolist()\n",
    "vals_stage_2 = stage_2[\"Count\"].tolist()\n",
    "\n",
    "source_stage_3 = stage_3[\"Marital Status\"].apply(lambda x: node_id[x]).tolist()\n",
    "target_stage_3 = stage_3[\"Comorbidity\"].apply(lambda x: node_id[x]).tolist()\n",
    "vals_stage_3 = stage_3[\"Count\"].tolist()\n",
    "\n",
    "#combines all source, target, and value lists\n",
    "sources = source_stage_1 + source_stage_2 + source_stage_3\n",
    "targets = target_stage_1 + target_stage_2 + target_stage_3\n",
    "vals = vals_stage_1 + vals_stage_2 + vals_stage_3\n",
    "\n",
    "#plot the sankey diagram using plotly\n",
    "\n",
    "#color code the nodes and the flows\n",
    "node_colors_dict = colors_comorbid\n",
    "node_colors_dict.update(colors_ethn)\n",
    "node_colors_dict.update(colors_edu)\n",
    "node_colors_dict.update(colors_marital)\n",
    "\n",
    "\n",
    "node_colors = [node_colors_dict[node] for node in nodes]\n",
    "flow_colors = []\n",
    "\n",
    "for tgt in targets:\n",
    "    for node in node_colors_dict.keys():\n",
    "        if node_id[node] == tgt:\n",
    "            flow_colors.append(node_colors_dict[node])\n",
    "\n",
    "\n",
    "fig = go.Figure(data=[go.Sankey(\n",
    "    node=dict(\n",
    "        pad=15,\n",
    "        thickness=20,\n",
    "        line=dict(color=\"black\", width=0.5),\n",
    "        label=nodes,\n",
    "        color=node_colors\n",
    "    ),\n",
    "    link=dict(\n",
    "        source=sources,\n",
    "        target=targets,\n",
    "        value=vals,\n",
    "        color=flow_colors\n",
    "    )\n",
    ")])\n",
    "fig.update_layout(title=\"Flow of OCD Patients Across Demographic and Comorbidity Categories\")\n",
    "fig.show()\n"
   ]
  },
  {
   "cell_type": "markdown",
   "id": "f07feb51",
   "metadata": {},
   "source": [
    "While no single path overwhelmingly dominates, the Sankey diagram highlights some subtle flows from Ethnicity the demographic conditions to OCD Comorbidity, such as:\n",
    "\n",
    "1. <u>Education Distribution</u><br>\n",
    "While education levels are relatively balanced across ethnic groups, some subtle differences emerge. For example, there is an observable difference in the proportion of Graduate Degree holders who are Caucasians compared to those who are Africans. Further, except High School, all other education levels see African OCD patients having the lowest representation among all ethnicities. However, further investigation is required to judge whether this trend is systematic or due to sampling differences.<br>  \n",
    "\n",
    "2. <u>Marital Status Flow</u><br>\n",
    "Married and Divorced individuals receive almost equal contributions from all education levels, while the Single category is comprised of a slightly higher share of patients with Some College or Graduate Degrees.<br>\n",
    "\n",
    "3. <u>Comorbidity Distribution</u><br><br>\n",
    "Single patients predominantly flow into the Depression Only or Anxiety Only categories, and are also the highest occupants of both these categories. On the other hand, Married patients serve as the highest occupants of the Both and None categories. Divorced patients see an almost equal flow into the  Depression Only, Anxiety Only, or Both categories, with a slightly lower flow into the None category.<br>\n",
    "\n",
    "These are just a few observations from the Sankey diagram, and more can be explored by hovering over the different flows in this interactive plot. Again, it is important to note that the Sankey diagram shows raw counts, so observed differences may be influenced by sample size. And as noted previously, the synthetic nature of this dataset makes patterns illustrative rather than clinically meaningful."
   ]
  },
  {
   "cell_type": "markdown",
   "id": "e3e59fb2",
   "metadata": {},
   "source": [
    "## Modeling and Prediction"
   ]
  },
  {
   "cell_type": "markdown",
   "id": "b871e7c5",
   "metadata": {},
   "source": [
    "Based on the trends observed in the EDA, no strong association between demographic factors and OCD comorbidity is anticipated in this dataset. Nevertheless, to provide a conclusive check, we perform a few baseline predictive modeling approaches. These models serve to confirm the patterns suggested by the EDA.\n",
    "\n",
    "Should any of these models uncover unexpected patterns or predictive power, further modeling techniques may be explored, although such outcomes are not expected given the insights from the exploratory analysis."
   ]
  },
  {
   "cell_type": "markdown",
   "id": "56e485a3",
   "metadata": {},
   "source": [
    "### Logistic Regression"
   ]
  },
  {
   "cell_type": "markdown",
   "id": "aa7406ed",
   "metadata": {},
   "source": [
    "We begin our modeling with Logistic Regression, since it serves as a natural first step for multi-class classification problems. Logistic regression provides interpretable coefficients that allow us to assess how each demographic factor contributes to predicting OCD comorbidity categories. By starting with this baseline model, we can establish a reference point before considering more complex techniques.\n",
    "\n",
    "Since our categorical features (`Sex`, `Ethnicity`, `Education Level`, `Marital Status`) were already one-hot encoded early on, no additional encoding is required at this stage. The only feature still requiring transformation is `Age`, which must be normalized to ensure it is on a comparable scale with the binary categorical indicators. We apply StandardScaler to center the Age feature around zero with unit variance."
   ]
  },
  {
   "cell_type": "code",
   "execution_count": 25,
   "id": "47860d5f",
   "metadata": {},
   "outputs": [
    {
     "data": {
      "text/html": [
       "<div>\n",
       "<style scoped>\n",
       "    .dataframe tbody tr th:only-of-type {\n",
       "        vertical-align: middle;\n",
       "    }\n",
       "\n",
       "    .dataframe tbody tr th {\n",
       "        vertical-align: top;\n",
       "    }\n",
       "\n",
       "    .dataframe thead th {\n",
       "        text-align: right;\n",
       "    }\n",
       "</style>\n",
       "<table border=\"1\" class=\"dataframe\">\n",
       "  <thead>\n",
       "    <tr style=\"text-align: right;\">\n",
       "      <th></th>\n",
       "      <th>Age</th>\n",
       "      <th>Depression Only</th>\n",
       "      <th>Anxiety Only</th>\n",
       "      <th>Both</th>\n",
       "      <th>None</th>\n",
       "      <th>Sex_Female</th>\n",
       "      <th>Sex_Male</th>\n",
       "      <th>Ethnicity_African</th>\n",
       "      <th>Ethnicity_Asian</th>\n",
       "      <th>Ethnicity_Caucasian</th>\n",
       "      <th>Ethnicity_Hispanic</th>\n",
       "      <th>Marital Status_Divorced</th>\n",
       "      <th>Marital Status_Married</th>\n",
       "      <th>Marital Status_Single</th>\n",
       "      <th>Education Level_College Degree</th>\n",
       "      <th>Education Level_Graduate Degree</th>\n",
       "      <th>Education Level_High School</th>\n",
       "      <th>Education Level_Some College</th>\n",
       "    </tr>\n",
       "  </thead>\n",
       "  <tbody>\n",
       "    <tr>\n",
       "      <th>0</th>\n",
       "      <td>-0.878549</td>\n",
       "      <td>0</td>\n",
       "      <td>0</td>\n",
       "      <td>1</td>\n",
       "      <td>0</td>\n",
       "      <td>1</td>\n",
       "      <td>0</td>\n",
       "      <td>1</td>\n",
       "      <td>0</td>\n",
       "      <td>0</td>\n",
       "      <td>0</td>\n",
       "      <td>0</td>\n",
       "      <td>0</td>\n",
       "      <td>1</td>\n",
       "      <td>0</td>\n",
       "      <td>0</td>\n",
       "      <td>0</td>\n",
       "      <td>1</td>\n",
       "    </tr>\n",
       "    <tr>\n",
       "      <th>1</th>\n",
       "      <td>1.320597</td>\n",
       "      <td>0</td>\n",
       "      <td>0</td>\n",
       "      <td>1</td>\n",
       "      <td>0</td>\n",
       "      <td>0</td>\n",
       "      <td>1</td>\n",
       "      <td>1</td>\n",
       "      <td>0</td>\n",
       "      <td>0</td>\n",
       "      <td>0</td>\n",
       "      <td>1</td>\n",
       "      <td>0</td>\n",
       "      <td>0</td>\n",
       "      <td>0</td>\n",
       "      <td>0</td>\n",
       "      <td>0</td>\n",
       "      <td>1</td>\n",
       "    </tr>\n",
       "    <tr>\n",
       "      <th>3</th>\n",
       "      <td>-1.175731</td>\n",
       "      <td>0</td>\n",
       "      <td>0</td>\n",
       "      <td>1</td>\n",
       "      <td>0</td>\n",
       "      <td>1</td>\n",
       "      <td>0</td>\n",
       "      <td>0</td>\n",
       "      <td>0</td>\n",
       "      <td>0</td>\n",
       "      <td>1</td>\n",
       "      <td>0</td>\n",
       "      <td>1</td>\n",
       "      <td>0</td>\n",
       "      <td>1</td>\n",
       "      <td>0</td>\n",
       "      <td>0</td>\n",
       "      <td>0</td>\n",
       "    </tr>\n",
       "    <tr>\n",
       "      <th>5</th>\n",
       "      <td>-0.878549</td>\n",
       "      <td>0</td>\n",
       "      <td>0</td>\n",
       "      <td>1</td>\n",
       "      <td>0</td>\n",
       "      <td>1</td>\n",
       "      <td>0</td>\n",
       "      <td>0</td>\n",
       "      <td>1</td>\n",
       "      <td>0</td>\n",
       "      <td>0</td>\n",
       "      <td>0</td>\n",
       "      <td>1</td>\n",
       "      <td>0</td>\n",
       "      <td>1</td>\n",
       "      <td>0</td>\n",
       "      <td>0</td>\n",
       "      <td>0</td>\n",
       "    </tr>\n",
       "    <tr>\n",
       "      <th>9</th>\n",
       "      <td>1.498907</td>\n",
       "      <td>0</td>\n",
       "      <td>0</td>\n",
       "      <td>1</td>\n",
       "      <td>0</td>\n",
       "      <td>1</td>\n",
       "      <td>0</td>\n",
       "      <td>0</td>\n",
       "      <td>0</td>\n",
       "      <td>0</td>\n",
       "      <td>1</td>\n",
       "      <td>1</td>\n",
       "      <td>0</td>\n",
       "      <td>0</td>\n",
       "      <td>0</td>\n",
       "      <td>1</td>\n",
       "      <td>0</td>\n",
       "      <td>0</td>\n",
       "    </tr>\n",
       "  </tbody>\n",
       "</table>\n",
       "</div>"
      ],
      "text/plain": [
       "        Age  Depression Only  Anxiety Only  Both  None  Sex_Female  Sex_Male  \\\n",
       "0 -0.878549                0             0     1     0           1         0   \n",
       "1  1.320597                0             0     1     0           0         1   \n",
       "3 -1.175731                0             0     1     0           1         0   \n",
       "5 -0.878549                0             0     1     0           1         0   \n",
       "9  1.498907                0             0     1     0           1         0   \n",
       "\n",
       "   Ethnicity_African  Ethnicity_Asian  Ethnicity_Caucasian  \\\n",
       "0                  1                0                    0   \n",
       "1                  1                0                    0   \n",
       "3                  0                0                    0   \n",
       "5                  0                1                    0   \n",
       "9                  0                0                    0   \n",
       "\n",
       "   Ethnicity_Hispanic  Marital Status_Divorced  Marital Status_Married  \\\n",
       "0                   0                        0                       0   \n",
       "1                   0                        1                       0   \n",
       "3                   1                        0                       1   \n",
       "5                   0                        0                       1   \n",
       "9                   1                        1                       0   \n",
       "\n",
       "   Marital Status_Single  Education Level_College Degree  \\\n",
       "0                      1                               0   \n",
       "1                      0                               0   \n",
       "3                      0                               1   \n",
       "5                      0                               1   \n",
       "9                      0                               0   \n",
       "\n",
       "   Education Level_Graduate Degree  Education Level_High School  \\\n",
       "0                                0                            0   \n",
       "1                                0                            0   \n",
       "3                                0                            0   \n",
       "5                                0                            0   \n",
       "9                                1                            0   \n",
       "\n",
       "   Education Level_Some College  \n",
       "0                             1  \n",
       "1                             1  \n",
       "3                             0  \n",
       "5                             0  \n",
       "9                             0  "
      ]
     },
     "execution_count": 25,
     "metadata": {},
     "output_type": "execute_result"
    }
   ],
   "source": [
    "scalar = StandardScaler()\n",
    "preprocessed_df[\"Age\"] = scalar.fit_transform(preprocessed_df[[\"Age\"]])\n",
    "preprocessed_df.head()"
   ]
  },
  {
   "cell_type": "markdown",
   "id": "74cdd044",
   "metadata": {},
   "source": [
    "We drop the columns corresponding to the perdictor variable of Comorbidity from our features dataset. "
   ]
  },
  {
   "cell_type": "code",
   "execution_count": 26,
   "id": "1646759c",
   "metadata": {},
   "outputs": [],
   "source": [
    "X = preprocessed_df.drop(columns=comorbid_order)\n",
    "y = comorbid_df[\"Comorbidity\"]"
   ]
  },
  {
   "cell_type": "markdown",
   "id": "03c2a302",
   "metadata": {},
   "source": [
    "With the dataset prepared, we move on to training the logistic regression model. Since our target variable (Comorbidity) has four possible outcomes (`Depression Only`, `Anxiety Only`, `Both`, and `None`), we use the multinomial setting rather than the simpler binary case for our model.\n",
    "\n",
    "We split the dataset into training and testing sets using a stratified split to preserve the class distribution across both subsets. This ensures that the less frequent categories remain represented during training and evaluation.\n",
    "\n",
    "The logistic regression model is configured with the LBFGS solver and an increased iteration cap (max_iter=500). This adjustment prevents premature convergence issues that can occur when handling multiple features or imbalanced data.\n",
    "\n",
    "Finally, we evaluate the model using the classification report (precision, recall, and F1-score per class) and the confusion matrix, which together provide a comprehensive picture of how well the model predicts each comorbidity category."
   ]
  },
  {
   "cell_type": "code",
   "execution_count": 27,
   "id": "826d21d9",
   "metadata": {},
   "outputs": [
    {
     "name": "stdout",
     "output_type": "stream",
     "text": [
      "                 precision    recall  f1-score   support\n",
      "\n",
      "   Anxiety Only       0.22      0.22      0.22        76\n",
      "           Both       0.23      0.23      0.23        74\n",
      "Depression Only       0.31      0.46      0.37        80\n",
      "           None       0.25      0.10      0.14        70\n",
      "\n",
      "       accuracy                           0.26       300\n",
      "      macro avg       0.25      0.25      0.24       300\n",
      "   weighted avg       0.25      0.26      0.24       300\n",
      "\n",
      "[[17 25 26  8]\n",
      " [28 17 22  7]\n",
      " [19 18 37  6]\n",
      " [15 15 33  7]]\n"
     ]
    },
    {
     "name": "stderr",
     "output_type": "stream",
     "text": [
      "c:\\Users\\tanis\\anaconda3\\Lib\\site-packages\\sklearn\\linear_model\\_logistic.py:1247: FutureWarning:\n",
      "\n",
      "'multi_class' was deprecated in version 1.5 and will be removed in 1.7. From then on, it will always use 'multinomial'. Leave it to its default value to avoid this warning.\n",
      "\n"
     ]
    }
   ],
   "source": [
    "X_train, X_test, y_train, y_test = train_test_split(\n",
    "    X, y, test_size=0.2, stratify=y, random_state=42 #HGTTG :)\n",
    ")\n",
    "model = LogisticRegression(multi_class=\"multinomial\",solver=\"lbfgs\",\n",
    "                           max_iter=500)\n",
    "model.fit(X_train, y_train)\n",
    "y_pred = model.predict(X_test)\n",
    "\n",
    "print(classification_report(y_test, y_pred))\n",
    "print(confusion_matrix(y_test, y_pred))"
   ]
  },
  {
   "cell_type": "markdown",
   "id": "2f792483",
   "metadata": {},
   "source": [
    "The logistic regression model achieves an overall accuracy of 26%, which is barely above random guessing for a four-class problem. Examination of the classification report and confusion matrix shows that the model struggles to correctly predict most categories, with modest performance only for `Depression Only` (F1-score = 0.37). Other comorbidity categories (`Anxiety Only`, `Both`, `None`) have low precision and recall, indicating that the model is unable to reliably distinguish between them.\n",
    "\n",
    "These results are consistent with the trends observed during EDA: there are no strong linear associations between the demographic variables and OCD comorbidity in this dataset.\n",
    "\n",
    "Since logistic regression captures linear relationships, it may miss non-linear interactions between features and comorbidity outcomes. To account for potential non-linear patterns and interactions, we next train a Random Forest classifier, which can model complex dependencies. It also reduces the risk of overfitting compared to a single decision tree. However, given the weak signals observed in EDA, significant improvement is not expected."
   ]
  },
  {
   "cell_type": "markdown",
   "id": "085d1925",
   "metadata": {},
   "source": [
    "### Random Forest"
   ]
  },
  {
   "cell_type": "markdown",
   "id": "bd2eb634",
   "metadata": {},
   "source": [
    "As with logistic regression, the features consist of standardized age and one-hot encoded categorical variables (`Sex`, `Ethnicity`, `Marital Status`, `Education Level`). The target variable remains the multi-class comorbidity status (`Anxiety Only`, `Depression Only`, `Both`, `None`)."
   ]
  },
  {
   "cell_type": "code",
   "execution_count": 28,
   "id": "dc3f0767",
   "metadata": {},
   "outputs": [
    {
     "name": "stdout",
     "output_type": "stream",
     "text": [
      "                 precision    recall  f1-score   support\n",
      "\n",
      "   Anxiety Only       0.20      0.22      0.21        76\n",
      "           Both       0.27      0.28      0.28        74\n",
      "Depression Only       0.26      0.24      0.25        80\n",
      "           None       0.20      0.19      0.19        70\n",
      "\n",
      "       accuracy                           0.23       300\n",
      "      macro avg       0.23      0.23      0.23       300\n",
      "   weighted avg       0.23      0.23      0.23       300\n",
      "\n",
      "[[17 23 16 20]\n",
      " [20 21 16 17]\n",
      " [24 21 19 16]\n",
      " [23 12 22 13]]\n"
     ]
    }
   ],
   "source": [
    "X_train, X_test, y_train, y_test = train_test_split(\n",
    "    X, y, test_size=0.2, stratify=y, random_state=42\n",
    ")\n",
    "rf_model = RandomForestClassifier(\n",
    "    n_estimators=100,        # number of trees\n",
    "    max_depth=None,          # full depth\n",
    "    random_state=42\n",
    ")\n",
    "\n",
    "rf_model.fit(X_train, y_train)\n",
    "y_pred = rf_model.predict(X_test)\n",
    "\n",
    "print(classification_report(y_test, y_pred))\n",
    "print(confusion_matrix(y_test, y_pred))"
   ]
  },
  {
   "cell_type": "markdown",
   "id": "1f48a3ca",
   "metadata": {},
   "source": [
    "The Random Forest model too shows poor predictive performance, achieving an overall accuracy of 23%. This, in fact, is slightly worse than the 26% accuracy from logistic regression. Given that random guessing for a four-class problem would yield around 25%, this result again indicates the lack of any meaningful patterns."
   ]
  },
  {
   "cell_type": "markdown",
   "id": "34521e87",
   "metadata": {},
   "source": [
    "### K-Means Clustering"
   ]
  },
  {
   "cell_type": "markdown",
   "id": "38e6356d",
   "metadata": {},
   "source": [
    "To further explore whether any hidden structure exists in the data, we apply K-Means clustering. Unlike supervised models, K-Means does not use the target labels but instead attempts to partition the data into distinct groups based on the features alone.\n",
    "\n",
    "By setting 4 clusters - each corresponding to the four comorbidity categories - we check whether any natural groupings of OCD comorbidities emerge based on demographic features. This serves as a final sanity check following the Logistic Regression and Random Forest results, helping confirm whether any latent patterns exist in the demographic features that were not captured in the supervised models."
   ]
  },
  {
   "cell_type": "code",
   "execution_count": 29,
   "id": "45a6faa9",
   "metadata": {},
   "outputs": [
    {
     "data": {
      "text/html": [
       "<div>\n",
       "<style scoped>\n",
       "    .dataframe tbody tr th:only-of-type {\n",
       "        vertical-align: middle;\n",
       "    }\n",
       "\n",
       "    .dataframe tbody tr th {\n",
       "        vertical-align: top;\n",
       "    }\n",
       "\n",
       "    .dataframe thead th {\n",
       "        text-align: right;\n",
       "    }\n",
       "</style>\n",
       "<table border=\"1\" class=\"dataframe\">\n",
       "  <thead>\n",
       "    <tr style=\"text-align: right;\">\n",
       "      <th></th>\n",
       "      <th>Age</th>\n",
       "      <th>Sex_Female</th>\n",
       "      <th>Sex_Male</th>\n",
       "      <th>Ethnicity_African</th>\n",
       "      <th>Ethnicity_Asian</th>\n",
       "      <th>Ethnicity_Caucasian</th>\n",
       "      <th>Ethnicity_Hispanic</th>\n",
       "      <th>Marital Status_Divorced</th>\n",
       "      <th>Marital Status_Married</th>\n",
       "      <th>Marital Status_Single</th>\n",
       "      <th>Education Level_College Degree</th>\n",
       "      <th>Education Level_Graduate Degree</th>\n",
       "      <th>Education Level_High School</th>\n",
       "      <th>Education Level_Some College</th>\n",
       "      <th>Cluster</th>\n",
       "      <th>Comorbidity</th>\n",
       "    </tr>\n",
       "  </thead>\n",
       "  <tbody>\n",
       "    <tr>\n",
       "      <th>0</th>\n",
       "      <td>-0.878549</td>\n",
       "      <td>1</td>\n",
       "      <td>0</td>\n",
       "      <td>1</td>\n",
       "      <td>0</td>\n",
       "      <td>0</td>\n",
       "      <td>0</td>\n",
       "      <td>0</td>\n",
       "      <td>0</td>\n",
       "      <td>1</td>\n",
       "      <td>0</td>\n",
       "      <td>0</td>\n",
       "      <td>0</td>\n",
       "      <td>1</td>\n",
       "      <td>2</td>\n",
       "      <td>Both</td>\n",
       "    </tr>\n",
       "    <tr>\n",
       "      <th>1</th>\n",
       "      <td>1.320597</td>\n",
       "      <td>0</td>\n",
       "      <td>1</td>\n",
       "      <td>1</td>\n",
       "      <td>0</td>\n",
       "      <td>0</td>\n",
       "      <td>0</td>\n",
       "      <td>1</td>\n",
       "      <td>0</td>\n",
       "      <td>0</td>\n",
       "      <td>0</td>\n",
       "      <td>0</td>\n",
       "      <td>0</td>\n",
       "      <td>1</td>\n",
       "      <td>1</td>\n",
       "      <td>Both</td>\n",
       "    </tr>\n",
       "    <tr>\n",
       "      <th>3</th>\n",
       "      <td>-1.175731</td>\n",
       "      <td>1</td>\n",
       "      <td>0</td>\n",
       "      <td>0</td>\n",
       "      <td>0</td>\n",
       "      <td>0</td>\n",
       "      <td>1</td>\n",
       "      <td>0</td>\n",
       "      <td>1</td>\n",
       "      <td>0</td>\n",
       "      <td>1</td>\n",
       "      <td>0</td>\n",
       "      <td>0</td>\n",
       "      <td>0</td>\n",
       "      <td>2</td>\n",
       "      <td>Both</td>\n",
       "    </tr>\n",
       "    <tr>\n",
       "      <th>5</th>\n",
       "      <td>-0.878549</td>\n",
       "      <td>1</td>\n",
       "      <td>0</td>\n",
       "      <td>0</td>\n",
       "      <td>1</td>\n",
       "      <td>0</td>\n",
       "      <td>0</td>\n",
       "      <td>0</td>\n",
       "      <td>1</td>\n",
       "      <td>0</td>\n",
       "      <td>1</td>\n",
       "      <td>0</td>\n",
       "      <td>0</td>\n",
       "      <td>0</td>\n",
       "      <td>2</td>\n",
       "      <td>Both</td>\n",
       "    </tr>\n",
       "    <tr>\n",
       "      <th>9</th>\n",
       "      <td>1.498907</td>\n",
       "      <td>1</td>\n",
       "      <td>0</td>\n",
       "      <td>0</td>\n",
       "      <td>0</td>\n",
       "      <td>0</td>\n",
       "      <td>1</td>\n",
       "      <td>1</td>\n",
       "      <td>0</td>\n",
       "      <td>0</td>\n",
       "      <td>0</td>\n",
       "      <td>1</td>\n",
       "      <td>0</td>\n",
       "      <td>0</td>\n",
       "      <td>0</td>\n",
       "      <td>Both</td>\n",
       "    </tr>\n",
       "  </tbody>\n",
       "</table>\n",
       "</div>"
      ],
      "text/plain": [
       "        Age  Sex_Female  Sex_Male  Ethnicity_African  Ethnicity_Asian  \\\n",
       "0 -0.878549           1         0                  1                0   \n",
       "1  1.320597           0         1                  1                0   \n",
       "3 -1.175731           1         0                  0                0   \n",
       "5 -0.878549           1         0                  0                1   \n",
       "9  1.498907           1         0                  0                0   \n",
       "\n",
       "   Ethnicity_Caucasian  Ethnicity_Hispanic  Marital Status_Divorced  \\\n",
       "0                    0                   0                        0   \n",
       "1                    0                   0                        1   \n",
       "3                    0                   1                        0   \n",
       "5                    0                   0                        0   \n",
       "9                    0                   1                        1   \n",
       "\n",
       "   Marital Status_Married  Marital Status_Single  \\\n",
       "0                       0                      1   \n",
       "1                       0                      0   \n",
       "3                       1                      0   \n",
       "5                       1                      0   \n",
       "9                       0                      0   \n",
       "\n",
       "   Education Level_College Degree  Education Level_Graduate Degree  \\\n",
       "0                               0                                0   \n",
       "1                               0                                0   \n",
       "3                               1                                0   \n",
       "5                               1                                0   \n",
       "9                               0                                1   \n",
       "\n",
       "   Education Level_High School  Education Level_Some College  Cluster  \\\n",
       "0                            0                             1        2   \n",
       "1                            0                             1        1   \n",
       "3                            0                             0        2   \n",
       "5                            0                             0        2   \n",
       "9                            0                             0        0   \n",
       "\n",
       "  Comorbidity  \n",
       "0        Both  \n",
       "1        Both  \n",
       "3        Both  \n",
       "5        Both  \n",
       "9        Both  "
      ]
     },
     "execution_count": 29,
     "metadata": {},
     "output_type": "execute_result"
    }
   ],
   "source": [
    "kmeans_df = X.copy()\n",
    "kmeans = KMeans(n_clusters=4, random_state=42)\n",
    "clusters = kmeans.fit_predict(X)\n",
    "kmeans_df[\"Cluster\"] = clusters\n",
    "kmeans_df[\"Comorbidity\"] = y\n",
    "kmeans_df.head()"
   ]
  },
  {
   "cell_type": "code",
   "execution_count": 30,
   "id": "69ce0c11",
   "metadata": {},
   "outputs": [
    {
     "data": {
      "text/html": [
       "<div>\n",
       "<style scoped>\n",
       "    .dataframe tbody tr th:only-of-type {\n",
       "        vertical-align: middle;\n",
       "    }\n",
       "\n",
       "    .dataframe tbody tr th {\n",
       "        vertical-align: top;\n",
       "    }\n",
       "\n",
       "    .dataframe thead th {\n",
       "        text-align: right;\n",
       "    }\n",
       "</style>\n",
       "<table border=\"1\" class=\"dataframe\">\n",
       "  <thead>\n",
       "    <tr style=\"text-align: right;\">\n",
       "      <th>Comorbidity</th>\n",
       "      <th>Anxiety Only</th>\n",
       "      <th>Both</th>\n",
       "      <th>Depression Only</th>\n",
       "      <th>None</th>\n",
       "    </tr>\n",
       "    <tr>\n",
       "      <th>Cluster</th>\n",
       "      <th></th>\n",
       "      <th></th>\n",
       "      <th></th>\n",
       "      <th></th>\n",
       "    </tr>\n",
       "  </thead>\n",
       "  <tbody>\n",
       "    <tr>\n",
       "      <th>0</th>\n",
       "      <td>0.274611</td>\n",
       "      <td>0.207254</td>\n",
       "      <td>0.264249</td>\n",
       "      <td>0.253886</td>\n",
       "    </tr>\n",
       "    <tr>\n",
       "      <th>1</th>\n",
       "      <td>0.218667</td>\n",
       "      <td>0.274667</td>\n",
       "      <td>0.266667</td>\n",
       "      <td>0.240000</td>\n",
       "    </tr>\n",
       "    <tr>\n",
       "      <th>2</th>\n",
       "      <td>0.238227</td>\n",
       "      <td>0.271468</td>\n",
       "      <td>0.277008</td>\n",
       "      <td>0.213296</td>\n",
       "    </tr>\n",
       "    <tr>\n",
       "      <th>3</th>\n",
       "      <td>0.277778</td>\n",
       "      <td>0.240741</td>\n",
       "      <td>0.259259</td>\n",
       "      <td>0.222222</td>\n",
       "    </tr>\n",
       "  </tbody>\n",
       "</table>\n",
       "</div>"
      ],
      "text/plain": [
       "Comorbidity  Anxiety Only      Both  Depression Only      None\n",
       "Cluster                                                       \n",
       "0                0.274611  0.207254         0.264249  0.253886\n",
       "1                0.218667  0.274667         0.266667  0.240000\n",
       "2                0.238227  0.271468         0.277008  0.213296\n",
       "3                0.277778  0.240741         0.259259  0.222222"
      ]
     },
     "execution_count": 30,
     "metadata": {},
     "output_type": "execute_result"
    }
   ],
   "source": [
    "kmeans_df.groupby(\"Cluster\")[\"Comorbidity\"].value_counts(normalize=True).unstack()"
   ]
  },
  {
   "cell_type": "markdown",
   "id": "12782a26",
   "metadata": {},
   "source": [
    "The table of proportions shows that all clusters have a very similar composition of `Anxiety Only`, `Depression Only`, `Both`, and `None`. No demographic-based cluster strongly corresponds to a particular comorbidity, and the minor differences observed are small and likely reflect sampling variability.\n",
    "\n",
    "This confirms the patterns observed in the EDA and predictive modeling: **demographic variables in this dataset do not appear to meaningfully separate OCD patients by comorbidity status.**"
   ]
  },
  {
   "cell_type": "markdown",
   "id": "082e6f43",
   "metadata": {},
   "source": [
    "## Conclusion"
   ]
  },
  {
   "cell_type": "markdown",
   "id": "3678435c",
   "metadata": {},
   "source": [
    "In this project, we explored whether demographic factors - age, sex, ethnicity, education level, and marital status - could meaningfully predict OCD comorbidity status (Anxiety Only, Depression Only, Both, None) using a synthetic dataset of 1,500 simulated patients.\n",
    "\n",
    "The exploratory data analysis indicated that OCD comorbidity distributions are relatively balanced across demographic groups. Visualizations such as the heatmap, mosaic plot, and sankey diagram revealed no strong or consistent patterns. Minor differences, such as slightly higher proportions of Depression Only among certain sex-ethnicity combinations or subtle flows in education and marital status, were observed, but these differences were inconsistent and likely attributable to sampling variability rather than systematic trends.\n",
    "\n",
    "Predictive modeling further confirmed these findings. Logistic regression achieved only 26% accuracy, and Random Forests achieved 23% accuracy - both at or below the level of random guessing for a four-class classification problem. K-means clustering similarly failed to uncover any meaningful clusters aligned with comorbidity categories. Across EDA, modeling, and clustering, demographic variables did not appear to provide predictive or explanatory power regarding OCD comorbidities in this synthetic dataset.\n",
    "\n",
    "Overall, this project showcases a structured approach to combining descriptive and predictive analytics for multi-class outcomes, while also acknowledging the limitations of the dataset. The analyses highlight the importance of careful interpretation, especially with synthetic data, and provide a workflow that could be applied to real-world datasets where stronger associations might exist."
   ]
  },
  {
   "cell_type": "code",
   "execution_count": null,
   "id": "fc8be16c",
   "metadata": {},
   "outputs": [],
   "source": []
  }
 ],
 "metadata": {
  "kernelspec": {
   "display_name": "base",
   "language": "python",
   "name": "python3"
  },
  "language_info": {
   "codemirror_mode": {
    "name": "ipython",
    "version": 3
   },
   "file_extension": ".py",
   "mimetype": "text/x-python",
   "name": "python",
   "nbconvert_exporter": "python",
   "pygments_lexer": "ipython3",
   "version": "3.12.3"
  }
 },
 "nbformat": 4,
 "nbformat_minor": 5
}
